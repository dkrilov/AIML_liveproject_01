{
 "cells": [
  {
   "cell_type": "markdown",
   "metadata": {},
   "source": [
    "### Will a Customer Accept the Coupon?\n",
    "\n",
    "**Context**\n",
    "\n",
    "Imagine driving through town and a coupon is delivered to your cell phone for a restaraunt near where you are driving. Would you accept that coupon and take a short detour to the restaraunt? Would you accept the coupon but use it on a sunbsequent trip? Would you ignore the coupon entirely? What if the coupon was for a bar instead of a restaraunt? What about a coffee house? Would you accept a bar coupon with a minor passenger in the car? What about if it was just you and your partner in the car? Would weather impact the rate of acceptance? What about the time of day?\n",
    "\n",
    "Obviously, proximity to the business is a factor on whether the coupon is delivered to the driver or not, but what are the factors that determine whether a driver accepts the coupon once it is delivered to them? How would you determine whether a driver is likely to accept a coupon?\n",
    "\n",
    "**Overview**\n",
    "\n",
    "The goal of this project is to use what you know about visualizations and probability distributions to distinguish between customers who accepted a driving coupon versus those that did not.\n",
    "\n",
    "**Data**\n",
    "\n",
    "This data comes to us from the UCI Machine Learning repository and was collected via a survey on Amazon Mechanical Turk. The survey describes different driving scenarios including the destination, current time, weather, passenger, etc., and then ask the person whether he will accept the coupon if he is the driver. Answers that the user will drive there ‘right away’ or ‘later before the coupon expires’ are labeled as ‘Y = 1’ and answers ‘no, I do not want the coupon’ are labeled as ‘Y = 0’.  There are five different types of coupons -- less expensive restaurants (under \\\\$20), coffee houses, carry out & take away, bar, and more expensive restaurants (\\\\$20 - \\\\$50). "
   ]
  },
  {
   "cell_type": "markdown",
   "metadata": {},
   "source": [
    "**Deliverables**\n",
    "\n",
    "Your final product should be a brief report that highlights the differences between customers who did and did not accept the coupons.  To explore the data you will utilize your knowledge of plotting, statistical summaries, and visualization using Python. You will publish your findings in a public facing github repository as your first portfolio piece.\n",
    "\n",
    "\n",
    "\n"
   ]
  },
  {
   "cell_type": "markdown",
   "metadata": {},
   "source": [
    "### Data Description\n",
    "Keep in mind that these values mentioned below are average values.\n",
    "\n",
    "The attributes of this data set include:\n",
    "1. User attributes\n",
    "    -  Gender: male, female\n",
    "    -  Age: below 21, 21 to 25, 26 to 30, etc.\n",
    "    -  Marital Status: single, married partner, unmarried partner, or widowed\n",
    "    -  Number of children: 0, 1, or more than 1\n",
    "    -  Education: high school, bachelors degree, associates degree, or graduate degree\n",
    "    -  Occupation: architecture & engineering, business & financial, etc.\n",
    "    -  Annual income: less than \\\\$12500, \\\\$12500 - \\\\$24999, \\\\$25000 - \\\\$37499, etc.\n",
    "    -  Number of times that he/she goes to a bar: 0, less than 1, 1 to 3, 4 to 8 or greater than 8\n",
    "    -  Number of times that he/she buys takeaway food: 0, less than 1, 1 to 3, 4 to 8 or greater\n",
    "    than 8\n",
    "    -  Number of times that he/she goes to a coffee house: 0, less than 1, 1 to 3, 4 to 8 or\n",
    "    greater than 8\n",
    "    -  Number of times that he/she eats at a restaurant with average expense less than \\\\$20 per\n",
    "    person: 0, less than 1, 1 to 3, 4 to 8 or greater than 8\n",
    "    -  Number of times that he/she goes to a bar: 0, less than 1, 1 to 3, 4 to 8 or greater than 8 (same as above)\n",
    "    \n",
    "\n",
    "2. Contextual attributes\n",
    "    - Driving destination: home, work, or no urgent destination\n",
    "    - Location of user, coupon and destination: we provide a map to show the geographical\n",
    "    location of the user, destination, and the venue, and we mark the distance between each\n",
    "    two places with time of driving. The user can see whether the venue is in the same\n",
    "    direction as the destination.\n",
    "    - Weather: sunny, rainy, or snowy\n",
    "    - Temperature: 30F, 55F, or 80F\n",
    "    - Time: 10AM, 2PM, or 6PM\n",
    "    - Passenger: alone, partner, kid(s), or friend(s)\n",
    "\n",
    "\n",
    "3. Coupon attributes\n",
    "    - time before it expires: 2 hours or one day"
   ]
  },
  {
   "cell_type": "code",
   "execution_count": 1,
   "metadata": {},
   "outputs": [],
   "source": [
    "import pandas as pd\n",
    "import numpy as np\n",
    "import matplotlib.pyplot as plt\n",
    "import seaborn as sns\n",
    "import plotly.express as px"
   ]
  },
  {
   "cell_type": "code",
   "execution_count": 2,
   "metadata": {},
   "outputs": [],
   "source": [
    "# running this code to view entire dataframe at once without hidden rows and columns\n",
    "\n",
    "pd.set_option('display.max_rows', None)\n",
    "pd.set_option('display.max_columns', None)"
   ]
  },
  {
   "cell_type": "markdown",
   "metadata": {},
   "source": [
    "### Problems\n",
    "\n",
    "Use the prompts below to get started with your data analysis.  \n",
    "\n",
    "1. Read in the `coupons.csv` file.\n",
    "\n",
    "\n"
   ]
  },
  {
   "cell_type": "code",
   "execution_count": 3,
   "metadata": {},
   "outputs": [],
   "source": [
    "df_v01 = pd.read_csv('./data/coupons.csv')"
   ]
  },
  {
   "cell_type": "markdown",
   "metadata": {},
   "source": [
    "### **what we are doing next (1): ...**\n",
    "\n",
    "### <span style=\"color:#1A9DE6\">_the following few lines of code will be used to simply review and understnd the dataframe's layout_</span>\n"
   ]
  },
  {
   "cell_type": "code",
   "execution_count": 4,
   "metadata": {},
   "outputs": [
    {
     "data": {
      "text/html": [
       "<div>\n",
       "<style scoped>\n",
       "    .dataframe tbody tr th:only-of-type {\n",
       "        vertical-align: middle;\n",
       "    }\n",
       "\n",
       "    .dataframe tbody tr th {\n",
       "        vertical-align: top;\n",
       "    }\n",
       "\n",
       "    .dataframe thead th {\n",
       "        text-align: right;\n",
       "    }\n",
       "</style>\n",
       "<table border=\"1\" class=\"dataframe\">\n",
       "  <thead>\n",
       "    <tr style=\"text-align: right;\">\n",
       "      <th></th>\n",
       "      <th>destination</th>\n",
       "      <th>passanger</th>\n",
       "      <th>weather</th>\n",
       "      <th>temperature</th>\n",
       "      <th>time</th>\n",
       "      <th>coupon</th>\n",
       "      <th>expiration</th>\n",
       "      <th>gender</th>\n",
       "      <th>age</th>\n",
       "      <th>maritalStatus</th>\n",
       "      <th>has_children</th>\n",
       "      <th>education</th>\n",
       "      <th>occupation</th>\n",
       "      <th>income</th>\n",
       "      <th>car</th>\n",
       "      <th>Bar</th>\n",
       "      <th>CoffeeHouse</th>\n",
       "      <th>CarryAway</th>\n",
       "      <th>RestaurantLessThan20</th>\n",
       "      <th>Restaurant20To50</th>\n",
       "      <th>toCoupon_GEQ5min</th>\n",
       "      <th>toCoupon_GEQ15min</th>\n",
       "      <th>toCoupon_GEQ25min</th>\n",
       "      <th>direction_same</th>\n",
       "      <th>direction_opp</th>\n",
       "      <th>Y</th>\n",
       "    </tr>\n",
       "  </thead>\n",
       "  <tbody>\n",
       "    <tr>\n",
       "      <th>0</th>\n",
       "      <td>No Urgent Place</td>\n",
       "      <td>Alone</td>\n",
       "      <td>Sunny</td>\n",
       "      <td>55</td>\n",
       "      <td>2PM</td>\n",
       "      <td>Restaurant(&lt;20)</td>\n",
       "      <td>1d</td>\n",
       "      <td>Female</td>\n",
       "      <td>21</td>\n",
       "      <td>Unmarried partner</td>\n",
       "      <td>1</td>\n",
       "      <td>Some college - no degree</td>\n",
       "      <td>Unemployed</td>\n",
       "      <td>$37500 - $49999</td>\n",
       "      <td>NaN</td>\n",
       "      <td>never</td>\n",
       "      <td>never</td>\n",
       "      <td>NaN</td>\n",
       "      <td>4~8</td>\n",
       "      <td>1~3</td>\n",
       "      <td>1</td>\n",
       "      <td>0</td>\n",
       "      <td>0</td>\n",
       "      <td>0</td>\n",
       "      <td>1</td>\n",
       "      <td>1</td>\n",
       "    </tr>\n",
       "    <tr>\n",
       "      <th>1</th>\n",
       "      <td>No Urgent Place</td>\n",
       "      <td>Friend(s)</td>\n",
       "      <td>Sunny</td>\n",
       "      <td>80</td>\n",
       "      <td>10AM</td>\n",
       "      <td>Coffee House</td>\n",
       "      <td>2h</td>\n",
       "      <td>Female</td>\n",
       "      <td>21</td>\n",
       "      <td>Unmarried partner</td>\n",
       "      <td>1</td>\n",
       "      <td>Some college - no degree</td>\n",
       "      <td>Unemployed</td>\n",
       "      <td>$37500 - $49999</td>\n",
       "      <td>NaN</td>\n",
       "      <td>never</td>\n",
       "      <td>never</td>\n",
       "      <td>NaN</td>\n",
       "      <td>4~8</td>\n",
       "      <td>1~3</td>\n",
       "      <td>1</td>\n",
       "      <td>0</td>\n",
       "      <td>0</td>\n",
       "      <td>0</td>\n",
       "      <td>1</td>\n",
       "      <td>0</td>\n",
       "    </tr>\n",
       "    <tr>\n",
       "      <th>2</th>\n",
       "      <td>No Urgent Place</td>\n",
       "      <td>Friend(s)</td>\n",
       "      <td>Sunny</td>\n",
       "      <td>80</td>\n",
       "      <td>10AM</td>\n",
       "      <td>Carry out &amp; Take away</td>\n",
       "      <td>2h</td>\n",
       "      <td>Female</td>\n",
       "      <td>21</td>\n",
       "      <td>Unmarried partner</td>\n",
       "      <td>1</td>\n",
       "      <td>Some college - no degree</td>\n",
       "      <td>Unemployed</td>\n",
       "      <td>$37500 - $49999</td>\n",
       "      <td>NaN</td>\n",
       "      <td>never</td>\n",
       "      <td>never</td>\n",
       "      <td>NaN</td>\n",
       "      <td>4~8</td>\n",
       "      <td>1~3</td>\n",
       "      <td>1</td>\n",
       "      <td>1</td>\n",
       "      <td>0</td>\n",
       "      <td>0</td>\n",
       "      <td>1</td>\n",
       "      <td>1</td>\n",
       "    </tr>\n",
       "    <tr>\n",
       "      <th>3</th>\n",
       "      <td>No Urgent Place</td>\n",
       "      <td>Friend(s)</td>\n",
       "      <td>Sunny</td>\n",
       "      <td>80</td>\n",
       "      <td>2PM</td>\n",
       "      <td>Coffee House</td>\n",
       "      <td>2h</td>\n",
       "      <td>Female</td>\n",
       "      <td>21</td>\n",
       "      <td>Unmarried partner</td>\n",
       "      <td>1</td>\n",
       "      <td>Some college - no degree</td>\n",
       "      <td>Unemployed</td>\n",
       "      <td>$37500 - $49999</td>\n",
       "      <td>NaN</td>\n",
       "      <td>never</td>\n",
       "      <td>never</td>\n",
       "      <td>NaN</td>\n",
       "      <td>4~8</td>\n",
       "      <td>1~3</td>\n",
       "      <td>1</td>\n",
       "      <td>1</td>\n",
       "      <td>0</td>\n",
       "      <td>0</td>\n",
       "      <td>1</td>\n",
       "      <td>0</td>\n",
       "    </tr>\n",
       "    <tr>\n",
       "      <th>4</th>\n",
       "      <td>No Urgent Place</td>\n",
       "      <td>Friend(s)</td>\n",
       "      <td>Sunny</td>\n",
       "      <td>80</td>\n",
       "      <td>2PM</td>\n",
       "      <td>Coffee House</td>\n",
       "      <td>1d</td>\n",
       "      <td>Female</td>\n",
       "      <td>21</td>\n",
       "      <td>Unmarried partner</td>\n",
       "      <td>1</td>\n",
       "      <td>Some college - no degree</td>\n",
       "      <td>Unemployed</td>\n",
       "      <td>$37500 - $49999</td>\n",
       "      <td>NaN</td>\n",
       "      <td>never</td>\n",
       "      <td>never</td>\n",
       "      <td>NaN</td>\n",
       "      <td>4~8</td>\n",
       "      <td>1~3</td>\n",
       "      <td>1</td>\n",
       "      <td>1</td>\n",
       "      <td>0</td>\n",
       "      <td>0</td>\n",
       "      <td>1</td>\n",
       "      <td>0</td>\n",
       "    </tr>\n",
       "  </tbody>\n",
       "</table>\n",
       "</div>"
      ],
      "text/plain": [
       "       destination  passanger weather  temperature  time  \\\n",
       "0  No Urgent Place      Alone   Sunny           55   2PM   \n",
       "1  No Urgent Place  Friend(s)   Sunny           80  10AM   \n",
       "2  No Urgent Place  Friend(s)   Sunny           80  10AM   \n",
       "3  No Urgent Place  Friend(s)   Sunny           80   2PM   \n",
       "4  No Urgent Place  Friend(s)   Sunny           80   2PM   \n",
       "\n",
       "                  coupon expiration  gender age      maritalStatus  \\\n",
       "0        Restaurant(<20)         1d  Female  21  Unmarried partner   \n",
       "1           Coffee House         2h  Female  21  Unmarried partner   \n",
       "2  Carry out & Take away         2h  Female  21  Unmarried partner   \n",
       "3           Coffee House         2h  Female  21  Unmarried partner   \n",
       "4           Coffee House         1d  Female  21  Unmarried partner   \n",
       "\n",
       "   has_children                 education  occupation           income  car  \\\n",
       "0             1  Some college - no degree  Unemployed  $37500 - $49999  NaN   \n",
       "1             1  Some college - no degree  Unemployed  $37500 - $49999  NaN   \n",
       "2             1  Some college - no degree  Unemployed  $37500 - $49999  NaN   \n",
       "3             1  Some college - no degree  Unemployed  $37500 - $49999  NaN   \n",
       "4             1  Some college - no degree  Unemployed  $37500 - $49999  NaN   \n",
       "\n",
       "     Bar CoffeeHouse CarryAway RestaurantLessThan20 Restaurant20To50  \\\n",
       "0  never       never       NaN                  4~8              1~3   \n",
       "1  never       never       NaN                  4~8              1~3   \n",
       "2  never       never       NaN                  4~8              1~3   \n",
       "3  never       never       NaN                  4~8              1~3   \n",
       "4  never       never       NaN                  4~8              1~3   \n",
       "\n",
       "   toCoupon_GEQ5min  toCoupon_GEQ15min  toCoupon_GEQ25min  direction_same  \\\n",
       "0                 1                  0                  0               0   \n",
       "1                 1                  0                  0               0   \n",
       "2                 1                  1                  0               0   \n",
       "3                 1                  1                  0               0   \n",
       "4                 1                  1                  0               0   \n",
       "\n",
       "   direction_opp  Y  \n",
       "0              1  1  \n",
       "1              1  0  \n",
       "2              1  1  \n",
       "3              1  0  \n",
       "4              1  0  "
      ]
     },
     "execution_count": 4,
     "metadata": {},
     "output_type": "execute_result"
    }
   ],
   "source": [
    "df_v01.head()"
   ]
  },
  {
   "cell_type": "code",
   "execution_count": 5,
   "metadata": {},
   "outputs": [
    {
     "data": {
      "text/html": [
       "<div>\n",
       "<style scoped>\n",
       "    .dataframe tbody tr th:only-of-type {\n",
       "        vertical-align: middle;\n",
       "    }\n",
       "\n",
       "    .dataframe tbody tr th {\n",
       "        vertical-align: top;\n",
       "    }\n",
       "\n",
       "    .dataframe thead th {\n",
       "        text-align: right;\n",
       "    }\n",
       "</style>\n",
       "<table border=\"1\" class=\"dataframe\">\n",
       "  <thead>\n",
       "    <tr style=\"text-align: right;\">\n",
       "      <th></th>\n",
       "      <th>destination</th>\n",
       "      <th>passanger</th>\n",
       "      <th>weather</th>\n",
       "      <th>temperature</th>\n",
       "      <th>time</th>\n",
       "      <th>coupon</th>\n",
       "      <th>expiration</th>\n",
       "      <th>gender</th>\n",
       "      <th>age</th>\n",
       "      <th>maritalStatus</th>\n",
       "      <th>has_children</th>\n",
       "      <th>education</th>\n",
       "      <th>occupation</th>\n",
       "      <th>income</th>\n",
       "      <th>car</th>\n",
       "      <th>Bar</th>\n",
       "      <th>CoffeeHouse</th>\n",
       "      <th>CarryAway</th>\n",
       "      <th>RestaurantLessThan20</th>\n",
       "      <th>Restaurant20To50</th>\n",
       "      <th>toCoupon_GEQ5min</th>\n",
       "      <th>toCoupon_GEQ15min</th>\n",
       "      <th>toCoupon_GEQ25min</th>\n",
       "      <th>direction_same</th>\n",
       "      <th>direction_opp</th>\n",
       "      <th>Y</th>\n",
       "    </tr>\n",
       "  </thead>\n",
       "  <tbody>\n",
       "    <tr>\n",
       "      <th>12679</th>\n",
       "      <td>Home</td>\n",
       "      <td>Partner</td>\n",
       "      <td>Rainy</td>\n",
       "      <td>55</td>\n",
       "      <td>6PM</td>\n",
       "      <td>Carry out &amp; Take away</td>\n",
       "      <td>1d</td>\n",
       "      <td>Male</td>\n",
       "      <td>26</td>\n",
       "      <td>Single</td>\n",
       "      <td>0</td>\n",
       "      <td>Bachelors degree</td>\n",
       "      <td>Sales &amp; Related</td>\n",
       "      <td>$75000 - $87499</td>\n",
       "      <td>NaN</td>\n",
       "      <td>never</td>\n",
       "      <td>never</td>\n",
       "      <td>1~3</td>\n",
       "      <td>4~8</td>\n",
       "      <td>1~3</td>\n",
       "      <td>1</td>\n",
       "      <td>0</td>\n",
       "      <td>0</td>\n",
       "      <td>1</td>\n",
       "      <td>0</td>\n",
       "      <td>1</td>\n",
       "    </tr>\n",
       "    <tr>\n",
       "      <th>12680</th>\n",
       "      <td>Work</td>\n",
       "      <td>Alone</td>\n",
       "      <td>Rainy</td>\n",
       "      <td>55</td>\n",
       "      <td>7AM</td>\n",
       "      <td>Carry out &amp; Take away</td>\n",
       "      <td>1d</td>\n",
       "      <td>Male</td>\n",
       "      <td>26</td>\n",
       "      <td>Single</td>\n",
       "      <td>0</td>\n",
       "      <td>Bachelors degree</td>\n",
       "      <td>Sales &amp; Related</td>\n",
       "      <td>$75000 - $87499</td>\n",
       "      <td>NaN</td>\n",
       "      <td>never</td>\n",
       "      <td>never</td>\n",
       "      <td>1~3</td>\n",
       "      <td>4~8</td>\n",
       "      <td>1~3</td>\n",
       "      <td>1</td>\n",
       "      <td>0</td>\n",
       "      <td>0</td>\n",
       "      <td>0</td>\n",
       "      <td>1</td>\n",
       "      <td>1</td>\n",
       "    </tr>\n",
       "    <tr>\n",
       "      <th>12681</th>\n",
       "      <td>Work</td>\n",
       "      <td>Alone</td>\n",
       "      <td>Snowy</td>\n",
       "      <td>30</td>\n",
       "      <td>7AM</td>\n",
       "      <td>Coffee House</td>\n",
       "      <td>1d</td>\n",
       "      <td>Male</td>\n",
       "      <td>26</td>\n",
       "      <td>Single</td>\n",
       "      <td>0</td>\n",
       "      <td>Bachelors degree</td>\n",
       "      <td>Sales &amp; Related</td>\n",
       "      <td>$75000 - $87499</td>\n",
       "      <td>NaN</td>\n",
       "      <td>never</td>\n",
       "      <td>never</td>\n",
       "      <td>1~3</td>\n",
       "      <td>4~8</td>\n",
       "      <td>1~3</td>\n",
       "      <td>1</td>\n",
       "      <td>0</td>\n",
       "      <td>0</td>\n",
       "      <td>1</td>\n",
       "      <td>0</td>\n",
       "      <td>0</td>\n",
       "    </tr>\n",
       "    <tr>\n",
       "      <th>12682</th>\n",
       "      <td>Work</td>\n",
       "      <td>Alone</td>\n",
       "      <td>Snowy</td>\n",
       "      <td>30</td>\n",
       "      <td>7AM</td>\n",
       "      <td>Bar</td>\n",
       "      <td>1d</td>\n",
       "      <td>Male</td>\n",
       "      <td>26</td>\n",
       "      <td>Single</td>\n",
       "      <td>0</td>\n",
       "      <td>Bachelors degree</td>\n",
       "      <td>Sales &amp; Related</td>\n",
       "      <td>$75000 - $87499</td>\n",
       "      <td>NaN</td>\n",
       "      <td>never</td>\n",
       "      <td>never</td>\n",
       "      <td>1~3</td>\n",
       "      <td>4~8</td>\n",
       "      <td>1~3</td>\n",
       "      <td>1</td>\n",
       "      <td>1</td>\n",
       "      <td>1</td>\n",
       "      <td>0</td>\n",
       "      <td>1</td>\n",
       "      <td>0</td>\n",
       "    </tr>\n",
       "    <tr>\n",
       "      <th>12683</th>\n",
       "      <td>Work</td>\n",
       "      <td>Alone</td>\n",
       "      <td>Sunny</td>\n",
       "      <td>80</td>\n",
       "      <td>7AM</td>\n",
       "      <td>Restaurant(20-50)</td>\n",
       "      <td>2h</td>\n",
       "      <td>Male</td>\n",
       "      <td>26</td>\n",
       "      <td>Single</td>\n",
       "      <td>0</td>\n",
       "      <td>Bachelors degree</td>\n",
       "      <td>Sales &amp; Related</td>\n",
       "      <td>$75000 - $87499</td>\n",
       "      <td>NaN</td>\n",
       "      <td>never</td>\n",
       "      <td>never</td>\n",
       "      <td>1~3</td>\n",
       "      <td>4~8</td>\n",
       "      <td>1~3</td>\n",
       "      <td>1</td>\n",
       "      <td>0</td>\n",
       "      <td>0</td>\n",
       "      <td>1</td>\n",
       "      <td>0</td>\n",
       "      <td>0</td>\n",
       "    </tr>\n",
       "  </tbody>\n",
       "</table>\n",
       "</div>"
      ],
      "text/plain": [
       "      destination passanger weather  temperature time                 coupon  \\\n",
       "12679        Home   Partner   Rainy           55  6PM  Carry out & Take away   \n",
       "12680        Work     Alone   Rainy           55  7AM  Carry out & Take away   \n",
       "12681        Work     Alone   Snowy           30  7AM           Coffee House   \n",
       "12682        Work     Alone   Snowy           30  7AM                    Bar   \n",
       "12683        Work     Alone   Sunny           80  7AM      Restaurant(20-50)   \n",
       "\n",
       "      expiration gender age maritalStatus  has_children         education  \\\n",
       "12679         1d   Male  26        Single             0  Bachelors degree   \n",
       "12680         1d   Male  26        Single             0  Bachelors degree   \n",
       "12681         1d   Male  26        Single             0  Bachelors degree   \n",
       "12682         1d   Male  26        Single             0  Bachelors degree   \n",
       "12683         2h   Male  26        Single             0  Bachelors degree   \n",
       "\n",
       "            occupation           income  car    Bar CoffeeHouse CarryAway  \\\n",
       "12679  Sales & Related  $75000 - $87499  NaN  never       never       1~3   \n",
       "12680  Sales & Related  $75000 - $87499  NaN  never       never       1~3   \n",
       "12681  Sales & Related  $75000 - $87499  NaN  never       never       1~3   \n",
       "12682  Sales & Related  $75000 - $87499  NaN  never       never       1~3   \n",
       "12683  Sales & Related  $75000 - $87499  NaN  never       never       1~3   \n",
       "\n",
       "      RestaurantLessThan20 Restaurant20To50  toCoupon_GEQ5min  \\\n",
       "12679                  4~8              1~3                 1   \n",
       "12680                  4~8              1~3                 1   \n",
       "12681                  4~8              1~3                 1   \n",
       "12682                  4~8              1~3                 1   \n",
       "12683                  4~8              1~3                 1   \n",
       "\n",
       "       toCoupon_GEQ15min  toCoupon_GEQ25min  direction_same  direction_opp  Y  \n",
       "12679                  0                  0               1              0  1  \n",
       "12680                  0                  0               0              1  1  \n",
       "12681                  0                  0               1              0  0  \n",
       "12682                  1                  1               0              1  0  \n",
       "12683                  0                  0               1              0  0  "
      ]
     },
     "execution_count": 5,
     "metadata": {},
     "output_type": "execute_result"
    }
   ],
   "source": [
    "df_v01.tail()"
   ]
  },
  {
   "cell_type": "code",
   "execution_count": 6,
   "metadata": {},
   "outputs": [
    {
     "name": "stdout",
     "output_type": "stream",
     "text": [
      "<class 'pandas.core.frame.DataFrame'>\n",
      "RangeIndex: 12684 entries, 0 to 12683\n",
      "Data columns (total 26 columns):\n",
      " #   Column                Non-Null Count  Dtype \n",
      "---  ------                --------------  ----- \n",
      " 0   destination           12684 non-null  object\n",
      " 1   passanger             12684 non-null  object\n",
      " 2   weather               12684 non-null  object\n",
      " 3   temperature           12684 non-null  int64 \n",
      " 4   time                  12684 non-null  object\n",
      " 5   coupon                12684 non-null  object\n",
      " 6   expiration            12684 non-null  object\n",
      " 7   gender                12684 non-null  object\n",
      " 8   age                   12684 non-null  object\n",
      " 9   maritalStatus         12684 non-null  object\n",
      " 10  has_children          12684 non-null  int64 \n",
      " 11  education             12684 non-null  object\n",
      " 12  occupation            12684 non-null  object\n",
      " 13  income                12684 non-null  object\n",
      " 14  car                   108 non-null    object\n",
      " 15  Bar                   12577 non-null  object\n",
      " 16  CoffeeHouse           12467 non-null  object\n",
      " 17  CarryAway             12533 non-null  object\n",
      " 18  RestaurantLessThan20  12554 non-null  object\n",
      " 19  Restaurant20To50      12495 non-null  object\n",
      " 20  toCoupon_GEQ5min      12684 non-null  int64 \n",
      " 21  toCoupon_GEQ15min     12684 non-null  int64 \n",
      " 22  toCoupon_GEQ25min     12684 non-null  int64 \n",
      " 23  direction_same        12684 non-null  int64 \n",
      " 24  direction_opp         12684 non-null  int64 \n",
      " 25  Y                     12684 non-null  int64 \n",
      "dtypes: int64(8), object(18)\n",
      "memory usage: 2.5+ MB\n"
     ]
    }
   ],
   "source": [
    "df_v01.info()"
   ]
  },
  {
   "cell_type": "code",
   "execution_count": 7,
   "metadata": {},
   "outputs": [
    {
     "data": {
      "text/plain": [
       "(12684, 26)"
      ]
     },
     "execution_count": 7,
     "metadata": {},
     "output_type": "execute_result"
    }
   ],
   "source": [
    "df_v01.shape"
   ]
  },
  {
   "cell_type": "code",
   "execution_count": 8,
   "metadata": {},
   "outputs": [
    {
     "data": {
      "text/html": [
       "<div>\n",
       "<style scoped>\n",
       "    .dataframe tbody tr th:only-of-type {\n",
       "        vertical-align: middle;\n",
       "    }\n",
       "\n",
       "    .dataframe tbody tr th {\n",
       "        vertical-align: top;\n",
       "    }\n",
       "\n",
       "    .dataframe thead th {\n",
       "        text-align: right;\n",
       "    }\n",
       "</style>\n",
       "<table border=\"1\" class=\"dataframe\">\n",
       "  <thead>\n",
       "    <tr style=\"text-align: right;\">\n",
       "      <th></th>\n",
       "      <th>temperature</th>\n",
       "      <th>has_children</th>\n",
       "      <th>toCoupon_GEQ5min</th>\n",
       "      <th>toCoupon_GEQ15min</th>\n",
       "      <th>toCoupon_GEQ25min</th>\n",
       "      <th>direction_same</th>\n",
       "      <th>direction_opp</th>\n",
       "      <th>Y</th>\n",
       "    </tr>\n",
       "  </thead>\n",
       "  <tbody>\n",
       "    <tr>\n",
       "      <th>count</th>\n",
       "      <td>12684.000000</td>\n",
       "      <td>12684.000000</td>\n",
       "      <td>12684.0</td>\n",
       "      <td>12684.000000</td>\n",
       "      <td>12684.000000</td>\n",
       "      <td>12684.000000</td>\n",
       "      <td>12684.000000</td>\n",
       "      <td>12684.000000</td>\n",
       "    </tr>\n",
       "    <tr>\n",
       "      <th>mean</th>\n",
       "      <td>63.301798</td>\n",
       "      <td>0.414144</td>\n",
       "      <td>1.0</td>\n",
       "      <td>0.561495</td>\n",
       "      <td>0.119126</td>\n",
       "      <td>0.214759</td>\n",
       "      <td>0.785241</td>\n",
       "      <td>0.568433</td>\n",
       "    </tr>\n",
       "    <tr>\n",
       "      <th>std</th>\n",
       "      <td>19.154486</td>\n",
       "      <td>0.492593</td>\n",
       "      <td>0.0</td>\n",
       "      <td>0.496224</td>\n",
       "      <td>0.323950</td>\n",
       "      <td>0.410671</td>\n",
       "      <td>0.410671</td>\n",
       "      <td>0.495314</td>\n",
       "    </tr>\n",
       "    <tr>\n",
       "      <th>min</th>\n",
       "      <td>30.000000</td>\n",
       "      <td>0.000000</td>\n",
       "      <td>1.0</td>\n",
       "      <td>0.000000</td>\n",
       "      <td>0.000000</td>\n",
       "      <td>0.000000</td>\n",
       "      <td>0.000000</td>\n",
       "      <td>0.000000</td>\n",
       "    </tr>\n",
       "    <tr>\n",
       "      <th>25%</th>\n",
       "      <td>55.000000</td>\n",
       "      <td>0.000000</td>\n",
       "      <td>1.0</td>\n",
       "      <td>0.000000</td>\n",
       "      <td>0.000000</td>\n",
       "      <td>0.000000</td>\n",
       "      <td>1.000000</td>\n",
       "      <td>0.000000</td>\n",
       "    </tr>\n",
       "    <tr>\n",
       "      <th>50%</th>\n",
       "      <td>80.000000</td>\n",
       "      <td>0.000000</td>\n",
       "      <td>1.0</td>\n",
       "      <td>1.000000</td>\n",
       "      <td>0.000000</td>\n",
       "      <td>0.000000</td>\n",
       "      <td>1.000000</td>\n",
       "      <td>1.000000</td>\n",
       "    </tr>\n",
       "    <tr>\n",
       "      <th>75%</th>\n",
       "      <td>80.000000</td>\n",
       "      <td>1.000000</td>\n",
       "      <td>1.0</td>\n",
       "      <td>1.000000</td>\n",
       "      <td>0.000000</td>\n",
       "      <td>0.000000</td>\n",
       "      <td>1.000000</td>\n",
       "      <td>1.000000</td>\n",
       "    </tr>\n",
       "    <tr>\n",
       "      <th>max</th>\n",
       "      <td>80.000000</td>\n",
       "      <td>1.000000</td>\n",
       "      <td>1.0</td>\n",
       "      <td>1.000000</td>\n",
       "      <td>1.000000</td>\n",
       "      <td>1.000000</td>\n",
       "      <td>1.000000</td>\n",
       "      <td>1.000000</td>\n",
       "    </tr>\n",
       "  </tbody>\n",
       "</table>\n",
       "</div>"
      ],
      "text/plain": [
       "        temperature  has_children  toCoupon_GEQ5min  toCoupon_GEQ15min  \\\n",
       "count  12684.000000  12684.000000           12684.0       12684.000000   \n",
       "mean      63.301798      0.414144               1.0           0.561495   \n",
       "std       19.154486      0.492593               0.0           0.496224   \n",
       "min       30.000000      0.000000               1.0           0.000000   \n",
       "25%       55.000000      0.000000               1.0           0.000000   \n",
       "50%       80.000000      0.000000               1.0           1.000000   \n",
       "75%       80.000000      1.000000               1.0           1.000000   \n",
       "max       80.000000      1.000000               1.0           1.000000   \n",
       "\n",
       "       toCoupon_GEQ25min  direction_same  direction_opp             Y  \n",
       "count       12684.000000    12684.000000   12684.000000  12684.000000  \n",
       "mean            0.119126        0.214759       0.785241      0.568433  \n",
       "std             0.323950        0.410671       0.410671      0.495314  \n",
       "min             0.000000        0.000000       0.000000      0.000000  \n",
       "25%             0.000000        0.000000       1.000000      0.000000  \n",
       "50%             0.000000        0.000000       1.000000      1.000000  \n",
       "75%             0.000000        0.000000       1.000000      1.000000  \n",
       "max             1.000000        1.000000       1.000000      1.000000  "
      ]
     },
     "execution_count": 8,
     "metadata": {},
     "output_type": "execute_result"
    }
   ],
   "source": [
    "df_v01.describe()"
   ]
  },
  {
   "cell_type": "code",
   "execution_count": 9,
   "metadata": {
    "scrolled": true
   },
   "outputs": [
    {
     "data": {
      "text/html": [
       "<div>\n",
       "<style scoped>\n",
       "    .dataframe tbody tr th:only-of-type {\n",
       "        vertical-align: middle;\n",
       "    }\n",
       "\n",
       "    .dataframe tbody tr th {\n",
       "        vertical-align: top;\n",
       "    }\n",
       "\n",
       "    .dataframe thead th {\n",
       "        text-align: right;\n",
       "    }\n",
       "</style>\n",
       "<table border=\"1\" class=\"dataframe\">\n",
       "  <thead>\n",
       "    <tr style=\"text-align: right;\">\n",
       "      <th></th>\n",
       "      <th>destination</th>\n",
       "      <th>passanger</th>\n",
       "      <th>weather</th>\n",
       "      <th>temperature</th>\n",
       "      <th>time</th>\n",
       "      <th>coupon</th>\n",
       "      <th>expiration</th>\n",
       "      <th>gender</th>\n",
       "      <th>age</th>\n",
       "      <th>maritalStatus</th>\n",
       "      <th>has_children</th>\n",
       "      <th>education</th>\n",
       "      <th>occupation</th>\n",
       "      <th>income</th>\n",
       "      <th>car</th>\n",
       "      <th>Bar</th>\n",
       "      <th>CoffeeHouse</th>\n",
       "      <th>CarryAway</th>\n",
       "      <th>RestaurantLessThan20</th>\n",
       "      <th>Restaurant20To50</th>\n",
       "      <th>toCoupon_GEQ5min</th>\n",
       "      <th>toCoupon_GEQ15min</th>\n",
       "      <th>toCoupon_GEQ25min</th>\n",
       "      <th>direction_same</th>\n",
       "      <th>direction_opp</th>\n",
       "      <th>Y</th>\n",
       "    </tr>\n",
       "  </thead>\n",
       "  <tbody>\n",
       "    <tr>\n",
       "      <th>5496</th>\n",
       "      <td>Work</td>\n",
       "      <td>Alone</td>\n",
       "      <td>Sunny</td>\n",
       "      <td>80</td>\n",
       "      <td>7AM</td>\n",
       "      <td>Carry out &amp; Take away</td>\n",
       "      <td>1d</td>\n",
       "      <td>Female</td>\n",
       "      <td>41</td>\n",
       "      <td>Single</td>\n",
       "      <td>1</td>\n",
       "      <td>Some college - no degree</td>\n",
       "      <td>Business &amp; Financial</td>\n",
       "      <td>$12500 - $24999</td>\n",
       "      <td>NaN</td>\n",
       "      <td>never</td>\n",
       "      <td>less1</td>\n",
       "      <td>less1</td>\n",
       "      <td>less1</td>\n",
       "      <td>never</td>\n",
       "      <td>1</td>\n",
       "      <td>1</td>\n",
       "      <td>1</td>\n",
       "      <td>0</td>\n",
       "      <td>1</td>\n",
       "      <td>1</td>\n",
       "    </tr>\n",
       "  </tbody>\n",
       "</table>\n",
       "</div>"
      ],
      "text/plain": [
       "     destination passanger weather  temperature time                 coupon  \\\n",
       "5496        Work     Alone   Sunny           80  7AM  Carry out & Take away   \n",
       "\n",
       "     expiration  gender age maritalStatus  has_children  \\\n",
       "5496         1d  Female  41        Single             1   \n",
       "\n",
       "                     education            occupation           income  car  \\\n",
       "5496  Some college - no degree  Business & Financial  $12500 - $24999  NaN   \n",
       "\n",
       "        Bar CoffeeHouse CarryAway RestaurantLessThan20 Restaurant20To50  \\\n",
       "5496  never       less1     less1                less1            never   \n",
       "\n",
       "      toCoupon_GEQ5min  toCoupon_GEQ15min  toCoupon_GEQ25min  direction_same  \\\n",
       "5496                 1                  1                  1               0   \n",
       "\n",
       "      direction_opp  Y  \n",
       "5496              1  1  "
      ]
     },
     "execution_count": 9,
     "metadata": {},
     "output_type": "execute_result"
    }
   ],
   "source": [
    "df_v01.sample()"
   ]
  },
  {
   "cell_type": "markdown",
   "metadata": {},
   "source": [
    "### **what we are doing next (2): ...**\n",
    "\n",
    "### <span style=\"color:#1A9DE6\">_starting investigation for missing values or problematic data_</span>\n"
   ]
  },
  {
   "cell_type": "code",
   "execution_count": 10,
   "metadata": {},
   "outputs": [
    {
     "data": {
      "text/plain": [
       "destination                 0\n",
       "passanger                   0\n",
       "weather                     0\n",
       "temperature                 0\n",
       "time                        0\n",
       "coupon                      0\n",
       "expiration                  0\n",
       "gender                      0\n",
       "age                         0\n",
       "maritalStatus               0\n",
       "has_children                0\n",
       "education                   0\n",
       "occupation                  0\n",
       "income                      0\n",
       "car                     12576\n",
       "Bar                       107\n",
       "CoffeeHouse               217\n",
       "CarryAway                 151\n",
       "RestaurantLessThan20      130\n",
       "Restaurant20To50          189\n",
       "toCoupon_GEQ5min            0\n",
       "toCoupon_GEQ15min           0\n",
       "toCoupon_GEQ25min           0\n",
       "direction_same              0\n",
       "direction_opp               0\n",
       "Y                           0\n",
       "dtype: int64"
      ]
     },
     "execution_count": 10,
     "metadata": {},
     "output_type": "execute_result"
    }
   ],
   "source": [
    "df_v01.isnull().sum()"
   ]
  },
  {
   "cell_type": "code",
   "execution_count": 11,
   "metadata": {},
   "outputs": [
    {
     "data": {
      "text/plain": [
       "destination                 0\n",
       "passanger                   0\n",
       "weather                     0\n",
       "temperature                 0\n",
       "time                        0\n",
       "coupon                      0\n",
       "expiration                  0\n",
       "gender                      0\n",
       "age                         0\n",
       "maritalStatus               0\n",
       "has_children                0\n",
       "education                   0\n",
       "occupation                  0\n",
       "income                      0\n",
       "car                     12576\n",
       "Bar                       107\n",
       "CoffeeHouse               217\n",
       "CarryAway                 151\n",
       "RestaurantLessThan20      130\n",
       "Restaurant20To50          189\n",
       "toCoupon_GEQ5min            0\n",
       "toCoupon_GEQ15min           0\n",
       "toCoupon_GEQ25min           0\n",
       "direction_same              0\n",
       "direction_opp               0\n",
       "Y                           0\n",
       "dtype: int64"
      ]
     },
     "execution_count": 11,
     "metadata": {},
     "output_type": "execute_result"
    }
   ],
   "source": [
    "df_v01.isna().sum()"
   ]
  },
  {
   "cell_type": "markdown",
   "metadata": {},
   "source": [
    "### **what we are doing next (3): ... making a decision about missing data**\n",
    "\n",
    "### <span style=\"color:#1A9DE6\">_as we can see almost the entire 'car' column has missing values (12,576 out of 12,684) ... it seems that it makes sense to drop the 'car' column entirely, since it is out of scope of our task which is to determine the driver’s behavior when it comes to accepting or not accepting the coupon_</span>"
   ]
  },
  {
   "cell_type": "code",
   "execution_count": 12,
   "metadata": {},
   "outputs": [],
   "source": [
    "# dropping the 'car' column inplace to preserve the original df_v01 dataframe\n",
    "\n",
    "df_v01.drop(columns=['car'], inplace=True)\n",
    "\n",
    "# also cleaning up 'age' column which will become handy when solving bar coupon related questions\n",
    "df_v01['age'] = df_v01['age'].replace('50plus', '50')\n",
    "df_v01['age'] = df_v01['age'].replace('below21', '20')\n",
    "df_v01['age'] = df_v01['age'].astype(int)"
   ]
  },
  {
   "cell_type": "code",
   "execution_count": 13,
   "metadata": {},
   "outputs": [
    {
     "name": "stdout",
     "output_type": "stream",
     "text": [
      "<class 'pandas.core.frame.DataFrame'>\n",
      "RangeIndex: 12684 entries, 0 to 12683\n",
      "Data columns (total 25 columns):\n",
      " #   Column                Non-Null Count  Dtype \n",
      "---  ------                --------------  ----- \n",
      " 0   destination           12684 non-null  object\n",
      " 1   passanger             12684 non-null  object\n",
      " 2   weather               12684 non-null  object\n",
      " 3   temperature           12684 non-null  int64 \n",
      " 4   time                  12684 non-null  object\n",
      " 5   coupon                12684 non-null  object\n",
      " 6   expiration            12684 non-null  object\n",
      " 7   gender                12684 non-null  object\n",
      " 8   age                   12684 non-null  int32 \n",
      " 9   maritalStatus         12684 non-null  object\n",
      " 10  has_children          12684 non-null  int64 \n",
      " 11  education             12684 non-null  object\n",
      " 12  occupation            12684 non-null  object\n",
      " 13  income                12684 non-null  object\n",
      " 14  Bar                   12577 non-null  object\n",
      " 15  CoffeeHouse           12467 non-null  object\n",
      " 16  CarryAway             12533 non-null  object\n",
      " 17  RestaurantLessThan20  12554 non-null  object\n",
      " 18  Restaurant20To50      12495 non-null  object\n",
      " 19  toCoupon_GEQ5min      12684 non-null  int64 \n",
      " 20  toCoupon_GEQ15min     12684 non-null  int64 \n",
      " 21  toCoupon_GEQ25min     12684 non-null  int64 \n",
      " 22  direction_same        12684 non-null  int64 \n",
      " 23  direction_opp         12684 non-null  int64 \n",
      " 24  Y                     12684 non-null  int64 \n",
      "dtypes: int32(1), int64(8), object(16)\n",
      "memory usage: 2.4+ MB\n"
     ]
    }
   ],
   "source": [
    "# checking if the 'car' column is gone; yep, now our df_v01 dataframe has 25 columns with 'car' column being gone\n",
    "\n",
    "df_v01.info()"
   ]
  },
  {
   "cell_type": "markdown",
   "metadata": {},
   "source": [
    "### **what we are doing next (4): ... it is getting interesting since now we are really asking ourselfves a fundumental question \"What proportion of the total observations chose to accept the coupon?\"**\n",
    "\n",
    "### <span style=\"color:#1A9DE6\">_to solve this we will use value_counts() method :-)_</span>\n",
    "\n",
    "### **here comes our first observation: overall in 57% of driving scenarios user will use a coupon 'right away' of 'later before the coupon expires' and on the flip side of the coin in 43% of driving scenarios users will decline the coupon**\n"
   ]
  },
  {
   "cell_type": "code",
   "execution_count": 14,
   "metadata": {},
   "outputs": [
    {
     "name": "stdout",
     "output_type": "stream",
     "text": [
      "Y\n",
      "1    7210\n",
      "0    5474\n",
      "Name: count, dtype: int64\n",
      "Y\n",
      "1    0.568433\n",
      "0    0.431567\n",
      "Name: count, dtype: float64\n"
     ]
    }
   ],
   "source": [
    "# this code will let us know how many 'yes' and 'no' we have overall\n",
    "value_counts = df_v01['Y'].value_counts()\n",
    "print(value_counts)\n",
    "\n",
    "# now we will find the actual proportions simply deviding each value count by the total number of Y/N answers \n",
    "proportions = value_counts / len(df_v01)\n",
    "print(proportions)"
   ]
  },
  {
   "cell_type": "markdown",
   "metadata": {},
   "source": [
    "### **what we are doing next (5): ... building a bar plot to visualize the `coupon` column**\n",
    "\n",
    "### <span style=\"color:#1A9DE6\">_we will use Seaborn data visualization library built on top of Matplotlib_</span>"
   ]
  },
  {
   "cell_type": "code",
   "execution_count": 15,
   "metadata": {},
   "outputs": [
    {
     "data": {
      "text/plain": [
       "array(['Restaurant(<20)', 'Coffee House', 'Carry out & Take away', 'Bar',\n",
       "       'Restaurant(20-50)'], dtype=object)"
      ]
     },
     "execution_count": 15,
     "metadata": {},
     "output_type": "execute_result"
    }
   ],
   "source": [
    "# to visualize the 'coupon' column, let's firs create a list of all possible values in this column \n",
    "df_v01.coupon.unique()"
   ]
  },
  {
   "cell_type": "code",
   "execution_count": 16,
   "metadata": {},
   "outputs": [
    {
     "data": {
      "text/plain": [
       "coupon\n",
       "Coffee House             3996\n",
       "Restaurant(<20)          2786\n",
       "Carry out & Take away    2393\n",
       "Bar                      2017\n",
       "Restaurant(20-50)        1492\n",
       "Name: count, dtype: int64"
      ]
     },
     "execution_count": 16,
     "metadata": {},
     "output_type": "execute_result"
    }
   ],
   "source": [
    "# now, let's find the actual counts of each coupon type\n",
    "df_v01['coupon'].value_counts()"
   ]
  },
  {
   "cell_type": "code",
   "execution_count": 17,
   "metadata": {},
   "outputs": [],
   "source": [
    "coupon_type = ['Coffee House', 'Restaurant(<20)', 'Carry out & Take away', 'Bar',\n",
    "       'Restaurant(20-50)']"
   ]
  },
  {
   "cell_type": "code",
   "execution_count": 18,
   "metadata": {
    "scrolled": true
   },
   "outputs": [
    {
     "data": {
      "text/plain": [
       "Text(0.5, 1.0, 'Figure 1: Breakdown of coupons by category')"
      ]
     },
     "execution_count": 18,
     "metadata": {},
     "output_type": "execute_result"
    },
    {
     "data": {
      "image/png": "[encoded data removed]",
      "text/plain": [
       "<Figure size 640x480 with 1 Axes>"
      ]
     },
     "metadata": {},
     "output_type": "display_data"
    }
   ],
   "source": [
    "# now, let's plot it using Seaborn\n",
    "sns.barplot(df_v01, x = coupon_type, y = df_v01['coupon'].value_counts())\n",
    "plt.xlabel('Coupons by category')\n",
    "plt.xticks(rotation=45)\n",
    "plt.ylabel('Number of coupons')\n",
    "plt.title('Figure 1: Breakdown of coupons by category')"
   ]
  },
  {
   "cell_type": "markdown",
   "metadata": {},
   "source": [
    "### **what we are doing next (6): ... building a histogram to visualize the `temperature` column**\n",
    "\n",
    "### <span style=\"color:#1A9DE6\">_we will use Seaborn data visualization library built on top of Matplotlib_</span>\n"
   ]
  },
  {
   "cell_type": "code",
   "execution_count": 19,
   "metadata": {},
   "outputs": [
    {
     "data": {
      "text/plain": [
       "array([55, 80, 30], dtype=int64)"
      ]
     },
     "execution_count": 19,
     "metadata": {},
     "output_type": "execute_result"
    }
   ],
   "source": [
    "# running this code to make sure that the histogram's visual presentation will make sense\n",
    "\n",
    "df_v01.temperature.unique()\n",
    "# or we can use\n",
    "# df_v01['temperature'].unique()"
   ]
  },
  {
   "cell_type": "code",
   "execution_count": 20,
   "metadata": {},
   "outputs": [
    {
     "data": {
      "text/plain": [
       "temperature\n",
       "80    6528\n",
       "55    3840\n",
       "30    2316\n",
       "Name: count, dtype: int64"
      ]
     },
     "execution_count": 20,
     "metadata": {},
     "output_type": "execute_result"
    }
   ],
   "source": [
    "# running this code to make sure that the histogram's visual presentation will make sense\n",
    "\n",
    "df_v01.temperature.value_counts()\n",
    "# or we can use\n",
    "# df_v01['temperature'].value_counts()"
   ]
  },
  {
   "cell_type": "code",
   "execution_count": 21,
   "metadata": {},
   "outputs": [
    {
     "data": {
      "text/plain": [
       "Text(0.5, 1.0, 'Figure 2: Temperature at the time of coupon solicitation')"
      ]
     },
     "execution_count": 21,
     "metadata": {},
     "output_type": "execute_result"
    },
    {
     "data": {
      "image/png": "[encoded data removed]",
      "text/plain": [
       "<Figure size 640x480 with 1 Axes>"
      ]
     },
     "metadata": {},
     "output_type": "display_data"
    }
   ],
   "source": [
    "# buildig the histogram\n",
    "\n",
    "sns.histplot(df_v01['temperature'])\n",
    "plt.xlabel('Temperature in Fahrenheit')\n",
    "plt.ylabel('Number of times the temperature was recorded')\n",
    "plt.title('Figure 2: Temperature at the time of coupon solicitation')\n",
    "\n",
    "# df_v01.temperature.plot(kind = 'hist')"
   ]
  },
  {
   "cell_type": "markdown",
   "metadata": {},
   "source": [
    "### **what we are doing next: ... exploring just the bar related coupons**\n",
    "\n",
    "### <span style=\"color:#1A9DE6\">_1. creating a new `DataFrame` df_v02 that contains just the bar coupons_</span>"
   ]
  },
  {
   "cell_type": "code",
   "execution_count": 22,
   "metadata": {},
   "outputs": [],
   "source": [
    "df_v02 = df_v01[df_v01['coupon'] == 'Bar']\n",
    "# or we can use\n",
    "# df_v02 = df_v01.loc[df_v01['coupon'] == 'Bar']"
   ]
  },
  {
   "cell_type": "code",
   "execution_count": 23,
   "metadata": {},
   "outputs": [
    {
     "name": "stdout",
     "output_type": "stream",
     "text": [
      "<class 'pandas.core.frame.DataFrame'>\n",
      "Index: 2017 entries, 9 to 12682\n",
      "Data columns (total 25 columns):\n",
      " #   Column                Non-Null Count  Dtype \n",
      "---  ------                --------------  ----- \n",
      " 0   destination           2017 non-null   object\n",
      " 1   passanger             2017 non-null   object\n",
      " 2   weather               2017 non-null   object\n",
      " 3   temperature           2017 non-null   int64 \n",
      " 4   time                  2017 non-null   object\n",
      " 5   coupon                2017 non-null   object\n",
      " 6   expiration            2017 non-null   object\n",
      " 7   gender                2017 non-null   object\n",
      " 8   age                   2017 non-null   int32 \n",
      " 9   maritalStatus         2017 non-null   object\n",
      " 10  has_children          2017 non-null   int64 \n",
      " 11  education             2017 non-null   object\n",
      " 12  occupation            2017 non-null   object\n",
      " 13  income                2017 non-null   object\n",
      " 14  Bar                   1996 non-null   object\n",
      " 15  CoffeeHouse           1978 non-null   object\n",
      " 16  CarryAway             1993 non-null   object\n",
      " 17  RestaurantLessThan20  1994 non-null   object\n",
      " 18  Restaurant20To50      1981 non-null   object\n",
      " 19  toCoupon_GEQ5min      2017 non-null   int64 \n",
      " 20  toCoupon_GEQ15min     2017 non-null   int64 \n",
      " 21  toCoupon_GEQ25min     2017 non-null   int64 \n",
      " 22  direction_same        2017 non-null   int64 \n",
      " 23  direction_opp         2017 non-null   int64 \n",
      " 24  Y                     2017 non-null   int64 \n",
      "dtypes: int32(1), int64(8), object(16)\n",
      "memory usage: 401.8+ KB\n"
     ]
    }
   ],
   "source": [
    "df_v02.info()"
   ]
  },
  {
   "cell_type": "code",
   "execution_count": 24,
   "metadata": {},
   "outputs": [
    {
     "data": {
      "text/html": [
       "<div>\n",
       "<style scoped>\n",
       "    .dataframe tbody tr th:only-of-type {\n",
       "        vertical-align: middle;\n",
       "    }\n",
       "\n",
       "    .dataframe tbody tr th {\n",
       "        vertical-align: top;\n",
       "    }\n",
       "\n",
       "    .dataframe thead th {\n",
       "        text-align: right;\n",
       "    }\n",
       "</style>\n",
       "<table border=\"1\" class=\"dataframe\">\n",
       "  <thead>\n",
       "    <tr style=\"text-align: right;\">\n",
       "      <th></th>\n",
       "      <th>destination</th>\n",
       "      <th>passanger</th>\n",
       "      <th>weather</th>\n",
       "      <th>temperature</th>\n",
       "      <th>time</th>\n",
       "      <th>coupon</th>\n",
       "      <th>expiration</th>\n",
       "      <th>gender</th>\n",
       "      <th>age</th>\n",
       "      <th>maritalStatus</th>\n",
       "      <th>has_children</th>\n",
       "      <th>education</th>\n",
       "      <th>occupation</th>\n",
       "      <th>income</th>\n",
       "      <th>Bar</th>\n",
       "      <th>CoffeeHouse</th>\n",
       "      <th>CarryAway</th>\n",
       "      <th>RestaurantLessThan20</th>\n",
       "      <th>Restaurant20To50</th>\n",
       "      <th>toCoupon_GEQ5min</th>\n",
       "      <th>toCoupon_GEQ15min</th>\n",
       "      <th>toCoupon_GEQ25min</th>\n",
       "      <th>direction_same</th>\n",
       "      <th>direction_opp</th>\n",
       "      <th>Y</th>\n",
       "    </tr>\n",
       "  </thead>\n",
       "  <tbody>\n",
       "    <tr>\n",
       "      <th>3901</th>\n",
       "      <td>Home</td>\n",
       "      <td>Alone</td>\n",
       "      <td>Sunny</td>\n",
       "      <td>55</td>\n",
       "      <td>6PM</td>\n",
       "      <td>Bar</td>\n",
       "      <td>1d</td>\n",
       "      <td>Male</td>\n",
       "      <td>50</td>\n",
       "      <td>Single</td>\n",
       "      <td>0</td>\n",
       "      <td>Bachelors degree</td>\n",
       "      <td>Computer &amp; Mathematical</td>\n",
       "      <td>$75000 - $87499</td>\n",
       "      <td>1~3</td>\n",
       "      <td>never</td>\n",
       "      <td>1~3</td>\n",
       "      <td>4~8</td>\n",
       "      <td>1~3</td>\n",
       "      <td>1</td>\n",
       "      <td>0</td>\n",
       "      <td>0</td>\n",
       "      <td>1</td>\n",
       "      <td>0</td>\n",
       "      <td>1</td>\n",
       "    </tr>\n",
       "    <tr>\n",
       "      <th>4734</th>\n",
       "      <td>Home</td>\n",
       "      <td>Alone</td>\n",
       "      <td>Sunny</td>\n",
       "      <td>80</td>\n",
       "      <td>10PM</td>\n",
       "      <td>Bar</td>\n",
       "      <td>1d</td>\n",
       "      <td>Male</td>\n",
       "      <td>20</td>\n",
       "      <td>Single</td>\n",
       "      <td>0</td>\n",
       "      <td>Some college - no degree</td>\n",
       "      <td>Student</td>\n",
       "      <td>$87500 - $99999</td>\n",
       "      <td>never</td>\n",
       "      <td>4~8</td>\n",
       "      <td>NaN</td>\n",
       "      <td>4~8</td>\n",
       "      <td>less1</td>\n",
       "      <td>1</td>\n",
       "      <td>1</td>\n",
       "      <td>0</td>\n",
       "      <td>1</td>\n",
       "      <td>0</td>\n",
       "      <td>1</td>\n",
       "    </tr>\n",
       "    <tr>\n",
       "      <th>10026</th>\n",
       "      <td>Work</td>\n",
       "      <td>Alone</td>\n",
       "      <td>Sunny</td>\n",
       "      <td>30</td>\n",
       "      <td>7AM</td>\n",
       "      <td>Bar</td>\n",
       "      <td>1d</td>\n",
       "      <td>Male</td>\n",
       "      <td>26</td>\n",
       "      <td>Single</td>\n",
       "      <td>0</td>\n",
       "      <td>Bachelors degree</td>\n",
       "      <td>Community &amp; Social Services</td>\n",
       "      <td>$25000 - $37499</td>\n",
       "      <td>4~8</td>\n",
       "      <td>4~8</td>\n",
       "      <td>1~3</td>\n",
       "      <td>4~8</td>\n",
       "      <td>1~3</td>\n",
       "      <td>1</td>\n",
       "      <td>1</td>\n",
       "      <td>0</td>\n",
       "      <td>1</td>\n",
       "      <td>0</td>\n",
       "      <td>1</td>\n",
       "    </tr>\n",
       "  </tbody>\n",
       "</table>\n",
       "</div>"
      ],
      "text/plain": [
       "      destination passanger weather  temperature  time coupon expiration  \\\n",
       "3901         Home     Alone   Sunny           55   6PM    Bar         1d   \n",
       "4734         Home     Alone   Sunny           80  10PM    Bar         1d   \n",
       "10026        Work     Alone   Sunny           30   7AM    Bar         1d   \n",
       "\n",
       "      gender  age maritalStatus  has_children                 education  \\\n",
       "3901    Male   50        Single             0          Bachelors degree   \n",
       "4734    Male   20        Single             0  Some college - no degree   \n",
       "10026   Male   26        Single             0          Bachelors degree   \n",
       "\n",
       "                        occupation           income    Bar CoffeeHouse  \\\n",
       "3901       Computer & Mathematical  $75000 - $87499    1~3       never   \n",
       "4734                       Student  $87500 - $99999  never         4~8   \n",
       "10026  Community & Social Services  $25000 - $37499    4~8         4~8   \n",
       "\n",
       "      CarryAway RestaurantLessThan20 Restaurant20To50  toCoupon_GEQ5min  \\\n",
       "3901        1~3                  4~8              1~3                 1   \n",
       "4734        NaN                  4~8            less1                 1   \n",
       "10026       1~3                  4~8              1~3                 1   \n",
       "\n",
       "       toCoupon_GEQ15min  toCoupon_GEQ25min  direction_same  direction_opp  Y  \n",
       "3901                   0                  0               1              0  1  \n",
       "4734                   1                  0               1              0  1  \n",
       "10026                  1                  0               1              0  1  "
      ]
     },
     "execution_count": 24,
     "metadata": {},
     "output_type": "execute_result"
    }
   ],
   "source": [
    "# visually confirming that our dataframe contains only the bar coupons\n",
    "df_v02.sample(3)"
   ]
  },
  {
   "cell_type": "code",
   "execution_count": 25,
   "metadata": {},
   "outputs": [
    {
     "data": {
      "text/plain": [
       "(2017, 25)"
      ]
     },
     "execution_count": 25,
     "metadata": {},
     "output_type": "execute_result"
    }
   ],
   "source": [
    "df_v02.shape"
   ]
  },
  {
   "cell_type": "markdown",
   "metadata": {},
   "source": [
    "### <span style=\"color:#1A9DE6\">_2. figuring out what proportion of bar coupons were accepted_</span>\n",
    "\n",
    "### **our observation here is that 59% of the drivers will decline the bar coupon and 41% of the drivers will accept it ... it is nice to know that there are more responsible drivers who potentially choose not to drink vs. the ones that will ... still 41% of drivers accepting the coupon seems alarming**\n"
   ]
  },
  {
   "cell_type": "code",
   "execution_count": 26,
   "metadata": {},
   "outputs": [
    {
     "name": "stdout",
     "output_type": "stream",
     "text": [
      "Y\n",
      "0    1190\n",
      "1     827\n",
      "Name: count, dtype: int64\n",
      "Y\n",
      "0    0.589985\n",
      "1    0.410015\n",
      "Name: count, dtype: float64\n"
     ]
    }
   ],
   "source": [
    "# this code will let us know how many drivers accepted/declined bar coupons\n",
    "value_counts = df_v02['Y'].value_counts()\n",
    "print(value_counts)\n",
    "\n",
    "# now we will find the actual proportions simply deviding each value count by the total number of Y/N answers \n",
    "proportions = value_counts / len(df_v02)\n",
    "print(proportions)"
   ]
  },
  {
   "cell_type": "markdown",
   "metadata": {},
   "source": [
    "### <span style=\"color:#1A9DE6\">_3. comparing the acceptance rate between those who went to a bar 3 or fewer times a month to those who went more_</span>\n",
    "\n",
    "### **our observation is that, overall, the drivers who went to a bar 3 or fewer times a month (_including less than one_) have smaller acceptance rate of 53% as compared to those with 4 or more bar visits whose acceptance of the bar coupon is 77%**"
   ]
  },
  {
   "cell_type": "code",
   "execution_count": 27,
   "metadata": {},
   "outputs": [
    {
     "data": {
      "text/plain": [
       "array(['never', 'less1', '1~3', 'gt8', nan, '4~8'], dtype=object)"
      ]
     },
     "execution_count": 27,
     "metadata": {},
     "output_type": "execute_result"
    }
   ],
   "source": [
    "# what are the possible values in 'Bar' column? \n",
    "df_v02.Bar.unique()"
   ]
  },
  {
   "cell_type": "code",
   "execution_count": 28,
   "metadata": {},
   "outputs": [
    {
     "name": "stdout",
     "output_type": "stream",
     "text": [
      "number of driver accepting the bar coupon is 510\n",
      "number of driver declining the bar coupon is 457\n",
      "total number of drivers in `3 or less` category 967\n",
      "proportion of drivers accepting is 0.5274\n",
      "proportion of drivers declining is 0.4726\n"
     ]
    }
   ],
   "source": [
    "# the first thing we are doing here is identifying all rows that match 'less1'and '1~3' value and answered 'yes' to a bar coupon\n",
    "bar_3orless_yes = df_v02.loc[((df_v02['Bar'] == 'less1') | (df_v02['Bar'] == '1~3')) & (df_v02['Y'] == 1)].shape[0]\n",
    "print('number of driver accepting the bar coupon is ' + str(bar_3orless_yes))\n",
    "\n",
    "# we are now moving to identifying all rows that match 'less1'and '1~3' value and answered 'no' to a bar coupon\n",
    "bar_3orless_no = df_v02.loc[((df_v02['Bar'] == 'less1') | (df_v02['Bar'] == '1~3')) & (df_v02['Y'] == 0)].shape[0]\n",
    "print('number of driver declining the bar coupon is ' + str(bar_3orless_no))\n",
    "\n",
    "# finding the total number of answers\n",
    "bar_3orless_total = bar_3orless_yes + bar_3orless_no\n",
    "print('total number of drivers in `3 or less` category ' + str(bar_3orless_total))\n",
    "\n",
    "print('proportion of drivers accepting is ' + str(\"{:.4f}\".format(bar_3orless_yes/bar_3orless_total)))\n",
    "print('proportion of drivers declining is ' + str(\"{:.4f}\".format(bar_3orless_no/bar_3orless_total)))"
   ]
  },
  {
   "cell_type": "code",
   "execution_count": 29,
   "metadata": {},
   "outputs": [
    {
     "name": "stdout",
     "output_type": "stream",
     "text": [
      "number of driver accepting the bar coupon is 153\n",
      "number of driver declining the bar coupon is 46\n",
      "total number of drivers in `4 or more` category 199\n",
      "proportion of drivers accepting is 0.7688\n",
      "proportion of drivers declining is 0.2312\n"
     ]
    }
   ],
   "source": [
    "# the first thing we are doing here is identifying all rows that match '4~8' and 'gt8' value and answered 'yes' to a bar coupon\n",
    "bar_4ormore_yes = df_v02.loc[((df_v02['Bar'] == '4~8') | (df_v02['Bar'] == 'gt8')) & (df_v02['Y'] == 1)].shape[0]\n",
    "print('number of driver accepting the bar coupon is ' + str(bar_4ormore_yes))\n",
    "\n",
    "# we are now moving to identifying all rows that match '4~8' and 'gt8' value and answered 'no' to a bar coupon\n",
    "bar_4ormore_no = df_v02.loc[((df_v02['Bar'] == '4~8') | (df_v02['Bar'] == 'gt8')) & (df_v02['Y'] == 0)].shape[0]\n",
    "print('number of driver declining the bar coupon is ' + str(bar_4ormore_no))\n",
    "\n",
    "# finding the total number of answers\n",
    "bar_4ormore_total = bar_4ormore_yes + bar_4ormore_no\n",
    "print('total number of drivers in `4 or more` category ' + str(bar_4ormore_total))\n",
    "\n",
    "print('proportion of drivers accepting is ' + str(\"{:.4f}\".format(bar_4ormore_yes/bar_4ormore_total)))\n",
    "print('proportion of drivers declining is ' + str(\"{:.4f}\".format(bar_4ormore_no/bar_4ormore_total)))"
   ]
  },
  {
   "cell_type": "markdown",
   "metadata": {},
   "source": [
    "### <span style=\"color:#1A9DE6\">_4. comparing the acceptance rate between drivers who go to a bar more than once a month and are over the age of 25 to all others_</span>\n",
    "\n",
    "### **our observation is that drivers in this category have acceptance rate of 70% which make sense taking into account the vastness of the group (_25 + is a far larger subset of users than 21-25 age group_)**\n",
    "\n",
    "4. Compare the acceptance rate between drivers who go to a bar more than once a month and are over the age of 25 to the all others.  Is there a difference?\n"
   ]
  },
  {
   "cell_type": "code",
   "execution_count": 30,
   "metadata": {},
   "outputs": [
    {
     "data": {
      "text/plain": [
       "array([21, 46, 26, 31, 41, 50, 36, 20])"
      ]
     },
     "execution_count": 30,
     "metadata": {},
     "output_type": "execute_result"
    }
   ],
   "source": [
    "# here our data cleaning of 'age' column perfomed earlier is paying off ... we have nice age integer values\n",
    "df_v02.age.unique()"
   ]
  },
  {
   "cell_type": "code",
   "execution_count": 31,
   "metadata": {},
   "outputs": [
    {
     "data": {
      "text/plain": [
       "array(['never', 'less1', '1~3', 'gt8', nan, '4~8'], dtype=object)"
      ]
     },
     "execution_count": 31,
     "metadata": {},
     "output_type": "execute_result"
    }
   ],
   "source": [
    "df_v02.Bar.unique()"
   ]
  },
  {
   "cell_type": "code",
   "execution_count": 32,
   "metadata": {},
   "outputs": [
    {
     "data": {
      "text/html": [
       "<div>\n",
       "<style scoped>\n",
       "    .dataframe tbody tr th:only-of-type {\n",
       "        vertical-align: middle;\n",
       "    }\n",
       "\n",
       "    .dataframe tbody tr th {\n",
       "        vertical-align: top;\n",
       "    }\n",
       "\n",
       "    .dataframe thead th {\n",
       "        text-align: right;\n",
       "    }\n",
       "</style>\n",
       "<table border=\"1\" class=\"dataframe\">\n",
       "  <thead>\n",
       "    <tr style=\"text-align: right;\">\n",
       "      <th></th>\n",
       "      <th>destination</th>\n",
       "      <th>passanger</th>\n",
       "      <th>weather</th>\n",
       "      <th>temperature</th>\n",
       "      <th>time</th>\n",
       "      <th>coupon</th>\n",
       "      <th>expiration</th>\n",
       "      <th>gender</th>\n",
       "      <th>age</th>\n",
       "      <th>maritalStatus</th>\n",
       "      <th>has_children</th>\n",
       "      <th>education</th>\n",
       "      <th>occupation</th>\n",
       "      <th>income</th>\n",
       "      <th>Bar</th>\n",
       "      <th>CoffeeHouse</th>\n",
       "      <th>CarryAway</th>\n",
       "      <th>RestaurantLessThan20</th>\n",
       "      <th>Restaurant20To50</th>\n",
       "      <th>toCoupon_GEQ5min</th>\n",
       "      <th>toCoupon_GEQ15min</th>\n",
       "      <th>toCoupon_GEQ25min</th>\n",
       "      <th>direction_same</th>\n",
       "      <th>direction_opp</th>\n",
       "      <th>Y</th>\n",
       "    </tr>\n",
       "  </thead>\n",
       "  <tbody>\n",
       "    <tr>\n",
       "      <th>2656</th>\n",
       "      <td>No Urgent Place</td>\n",
       "      <td>Kid(s)</td>\n",
       "      <td>Sunny</td>\n",
       "      <td>80</td>\n",
       "      <td>10AM</td>\n",
       "      <td>Bar</td>\n",
       "      <td>1d</td>\n",
       "      <td>Female</td>\n",
       "      <td>26</td>\n",
       "      <td>Married partner</td>\n",
       "      <td>1</td>\n",
       "      <td>Bachelors degree</td>\n",
       "      <td>Architecture &amp; Engineering</td>\n",
       "      <td>$37500 - $49999</td>\n",
       "      <td>never</td>\n",
       "      <td>1~3</td>\n",
       "      <td>1~3</td>\n",
       "      <td>1~3</td>\n",
       "      <td>less1</td>\n",
       "      <td>1</td>\n",
       "      <td>1</td>\n",
       "      <td>0</td>\n",
       "      <td>0</td>\n",
       "      <td>1</td>\n",
       "      <td>1</td>\n",
       "    </tr>\n",
       "  </tbody>\n",
       "</table>\n",
       "</div>"
      ],
      "text/plain": [
       "          destination passanger weather  temperature  time coupon expiration  \\\n",
       "2656  No Urgent Place    Kid(s)   Sunny           80  10AM    Bar         1d   \n",
       "\n",
       "      gender  age    maritalStatus  has_children         education  \\\n",
       "2656  Female   26  Married partner             1  Bachelors degree   \n",
       "\n",
       "                      occupation           income    Bar CoffeeHouse  \\\n",
       "2656  Architecture & Engineering  $37500 - $49999  never         1~3   \n",
       "\n",
       "     CarryAway RestaurantLessThan20 Restaurant20To50  toCoupon_GEQ5min  \\\n",
       "2656       1~3                  1~3            less1                 1   \n",
       "\n",
       "      toCoupon_GEQ15min  toCoupon_GEQ25min  direction_same  direction_opp  Y  \n",
       "2656                  1                  0               0              1  1  "
      ]
     },
     "execution_count": 32,
     "metadata": {},
     "output_type": "execute_result"
    }
   ],
   "source": [
    "df_v02.sample()"
   ]
  },
  {
   "cell_type": "code",
   "execution_count": 33,
   "metadata": {},
   "outputs": [
    {
     "name": "stdout",
     "output_type": "stream",
     "text": [
      "number of drivers who are over 25 and went to a bar more than once a month and accepted the bar coupon is 292\n",
      "number of drivers who are over 25 and went to a bar more than once a month and declined the bar coupon is 128\n",
      "total number of drivers over 25 with more than once in a month bar visits 420\n",
      "proportion of drivers accepting is 0.6952\n",
      "proportion of drivers declining is 0.3048\n"
     ]
    }
   ],
   "source": [
    "# creating a placeholder for bar visits to make code more efficient by using .isin() method\n",
    "bar_visits = ['1~3', '4~8', 'gt8']\n",
    "\n",
    "# filtering for 'drivers who go to a bar more than once a month' and 'over the age of 25' and accepted the bar coupon\n",
    "bar_over25_yes = df_v02.loc[(df_v02['Bar'].isin(bar_visits)) & (df_v02['age'] > 25) & (df_v02['Y'] == 1)].shape[0]\n",
    "print('number of drivers who are over 25 and went to a bar more than once a month and accepted the bar coupon is ' + str(bar_over25_yes))\n",
    "\n",
    "# filtering for 'drivers who go to a bar more than once a month' and 'over the age of 25' and declined the bar coupon\n",
    "bar_over25_no = df_v02.loc[(df_v02['Bar'].isin(bar_visits)) & (df_v02['age'] > 25) & (df_v02['Y'] == 0)].shape[0]\n",
    "print('number of drivers who are over 25 and went to a bar more than once a month and declined the bar coupon is ' + str(bar_over25_no))\n",
    "\n",
    "# finding the total number of answers\n",
    "bar_over25_total = bar_over25_yes + bar_over25_no\n",
    "print('total number of drivers over 25 with more than once in a month bar visits ' + str(bar_over25_total))\n",
    "\n",
    "print('proportion of drivers accepting is ' + str(\"{:.4f}\".format(bar_over25_yes/bar_over25_total)))\n",
    "print('proportion of drivers declining is ' + str(\"{:.4f}\".format(bar_over25_no/bar_over25_total)))\n",
    "\n",
    "\n",
    "# was attempting to use different approach by using groupby() method ... ignore for now\n",
    "# df_v02.groupby([(df_v02['Bar'] == '1~3'), (df_v02['age'] > 25)])\n"
   ]
  },
  {
   "cell_type": "markdown",
   "metadata": {},
   "source": [
    "### <span style=\"color:#1A9DE6\">_5. identifying the acceptance rate between drivers who go to bars more than once a month and had passengers that were not a kid and had occupations other than farming, fishing, or forestry_</span>\n",
    "\n",
    " ### **our observation is that drivers in question 5 category have acceptance rate of 71%**\n"
   ]
  },
  {
   "cell_type": "code",
   "execution_count": 34,
   "metadata": {},
   "outputs": [
    {
     "data": {
      "text/html": [
       "<div>\n",
       "<style scoped>\n",
       "    .dataframe tbody tr th:only-of-type {\n",
       "        vertical-align: middle;\n",
       "    }\n",
       "\n",
       "    .dataframe tbody tr th {\n",
       "        vertical-align: top;\n",
       "    }\n",
       "\n",
       "    .dataframe thead th {\n",
       "        text-align: right;\n",
       "    }\n",
       "</style>\n",
       "<table border=\"1\" class=\"dataframe\">\n",
       "  <thead>\n",
       "    <tr style=\"text-align: right;\">\n",
       "      <th></th>\n",
       "      <th>destination</th>\n",
       "      <th>passanger</th>\n",
       "      <th>weather</th>\n",
       "      <th>temperature</th>\n",
       "      <th>time</th>\n",
       "      <th>coupon</th>\n",
       "      <th>expiration</th>\n",
       "      <th>gender</th>\n",
       "      <th>age</th>\n",
       "      <th>maritalStatus</th>\n",
       "      <th>has_children</th>\n",
       "      <th>education</th>\n",
       "      <th>occupation</th>\n",
       "      <th>income</th>\n",
       "      <th>Bar</th>\n",
       "      <th>CoffeeHouse</th>\n",
       "      <th>CarryAway</th>\n",
       "      <th>RestaurantLessThan20</th>\n",
       "      <th>Restaurant20To50</th>\n",
       "      <th>toCoupon_GEQ5min</th>\n",
       "      <th>toCoupon_GEQ15min</th>\n",
       "      <th>toCoupon_GEQ25min</th>\n",
       "      <th>direction_same</th>\n",
       "      <th>direction_opp</th>\n",
       "      <th>Y</th>\n",
       "    </tr>\n",
       "  </thead>\n",
       "  <tbody>\n",
       "    <tr>\n",
       "      <th>10752</th>\n",
       "      <td>Work</td>\n",
       "      <td>Alone</td>\n",
       "      <td>Rainy</td>\n",
       "      <td>55</td>\n",
       "      <td>7AM</td>\n",
       "      <td>Bar</td>\n",
       "      <td>1d</td>\n",
       "      <td>Female</td>\n",
       "      <td>41</td>\n",
       "      <td>Married partner</td>\n",
       "      <td>1</td>\n",
       "      <td>Graduate degree (Masters or Doctorate)</td>\n",
       "      <td>Food Preparation &amp; Serving Related</td>\n",
       "      <td>$100000 or More</td>\n",
       "      <td>less1</td>\n",
       "      <td>gt8</td>\n",
       "      <td>4~8</td>\n",
       "      <td>4~8</td>\n",
       "      <td>4~8</td>\n",
       "      <td>1</td>\n",
       "      <td>1</td>\n",
       "      <td>1</td>\n",
       "      <td>0</td>\n",
       "      <td>1</td>\n",
       "      <td>0</td>\n",
       "    </tr>\n",
       "    <tr>\n",
       "      <th>10688</th>\n",
       "      <td>No Urgent Place</td>\n",
       "      <td>Alone</td>\n",
       "      <td>Snowy</td>\n",
       "      <td>30</td>\n",
       "      <td>2PM</td>\n",
       "      <td>Bar</td>\n",
       "      <td>1d</td>\n",
       "      <td>Male</td>\n",
       "      <td>26</td>\n",
       "      <td>Married partner</td>\n",
       "      <td>1</td>\n",
       "      <td>Bachelors degree</td>\n",
       "      <td>Management</td>\n",
       "      <td>$12500 - $24999</td>\n",
       "      <td>1~3</td>\n",
       "      <td>4~8</td>\n",
       "      <td>1~3</td>\n",
       "      <td>1~3</td>\n",
       "      <td>NaN</td>\n",
       "      <td>1</td>\n",
       "      <td>0</td>\n",
       "      <td>0</td>\n",
       "      <td>0</td>\n",
       "      <td>1</td>\n",
       "      <td>1</td>\n",
       "    </tr>\n",
       "    <tr>\n",
       "      <th>12046</th>\n",
       "      <td>No Urgent Place</td>\n",
       "      <td>Friend(s)</td>\n",
       "      <td>Sunny</td>\n",
       "      <td>55</td>\n",
       "      <td>10PM</td>\n",
       "      <td>Bar</td>\n",
       "      <td>2h</td>\n",
       "      <td>Male</td>\n",
       "      <td>46</td>\n",
       "      <td>Married partner</td>\n",
       "      <td>1</td>\n",
       "      <td>Bachelors degree</td>\n",
       "      <td>Community &amp; Social Services</td>\n",
       "      <td>$100000 or More</td>\n",
       "      <td>less1</td>\n",
       "      <td>never</td>\n",
       "      <td>1~3</td>\n",
       "      <td>1~3</td>\n",
       "      <td>1~3</td>\n",
       "      <td>1</td>\n",
       "      <td>1</td>\n",
       "      <td>0</td>\n",
       "      <td>0</td>\n",
       "      <td>1</td>\n",
       "      <td>1</td>\n",
       "    </tr>\n",
       "  </tbody>\n",
       "</table>\n",
       "</div>"
      ],
      "text/plain": [
       "           destination  passanger weather  temperature  time coupon  \\\n",
       "10752             Work      Alone   Rainy           55   7AM    Bar   \n",
       "10688  No Urgent Place      Alone   Snowy           30   2PM    Bar   \n",
       "12046  No Urgent Place  Friend(s)   Sunny           55  10PM    Bar   \n",
       "\n",
       "      expiration  gender  age    maritalStatus  has_children  \\\n",
       "10752         1d  Female   41  Married partner             1   \n",
       "10688         1d    Male   26  Married partner             1   \n",
       "12046         2h    Male   46  Married partner             1   \n",
       "\n",
       "                                    education  \\\n",
       "10752  Graduate degree (Masters or Doctorate)   \n",
       "10688                        Bachelors degree   \n",
       "12046                        Bachelors degree   \n",
       "\n",
       "                               occupation           income    Bar CoffeeHouse  \\\n",
       "10752  Food Preparation & Serving Related  $100000 or More  less1         gt8   \n",
       "10688                          Management  $12500 - $24999    1~3         4~8   \n",
       "12046         Community & Social Services  $100000 or More  less1       never   \n",
       "\n",
       "      CarryAway RestaurantLessThan20 Restaurant20To50  toCoupon_GEQ5min  \\\n",
       "10752       4~8                  4~8              4~8                 1   \n",
       "10688       1~3                  1~3              NaN                 1   \n",
       "12046       1~3                  1~3              1~3                 1   \n",
       "\n",
       "       toCoupon_GEQ15min  toCoupon_GEQ25min  direction_same  direction_opp  Y  \n",
       "10752                  1                  1               0              1  0  \n",
       "10688                  0                  0               0              1  1  \n",
       "12046                  1                  0               0              1  1  "
      ]
     },
     "execution_count": 34,
     "metadata": {},
     "output_type": "execute_result"
    }
   ],
   "source": [
    "df_v02.sample(3)"
   ]
  },
  {
   "cell_type": "code",
   "execution_count": 35,
   "metadata": {},
   "outputs": [
    {
     "data": {
      "text/plain": [
       "array(['never', 'less1', '1~3', 'gt8', nan, '4~8'], dtype=object)"
      ]
     },
     "execution_count": 35,
     "metadata": {},
     "output_type": "execute_result"
    }
   ],
   "source": [
    "df_v02.Bar.unique()"
   ]
  },
  {
   "cell_type": "code",
   "execution_count": 36,
   "metadata": {},
   "outputs": [
    {
     "data": {
      "text/plain": [
       "array(['Kid(s)', 'Alone', 'Friend(s)', 'Partner'], dtype=object)"
      ]
     },
     "execution_count": 36,
     "metadata": {},
     "output_type": "execute_result"
    }
   ],
   "source": [
    "df_v02.passanger.unique()"
   ]
  },
  {
   "cell_type": "code",
   "execution_count": 37,
   "metadata": {},
   "outputs": [
    {
     "data": {
      "text/plain": [
       "array(['Unemployed', 'Architecture & Engineering', 'Student',\n",
       "       'Education&Training&Library', 'Healthcare Support',\n",
       "       'Healthcare Practitioners & Technical', 'Sales & Related',\n",
       "       'Management', 'Arts Design Entertainment Sports & Media',\n",
       "       'Computer & Mathematical', 'Life Physical Social Science',\n",
       "       'Personal Care & Service', 'Community & Social Services',\n",
       "       'Office & Administrative Support', 'Construction & Extraction',\n",
       "       'Legal', 'Retired', 'Installation Maintenance & Repair',\n",
       "       'Transportation & Material Moving', 'Business & Financial',\n",
       "       'Protective Service', 'Food Preparation & Serving Related',\n",
       "       'Production Occupations',\n",
       "       'Building & Grounds Cleaning & Maintenance',\n",
       "       'Farming Fishing & Forestry'], dtype=object)"
      ]
     },
     "execution_count": 37,
     "metadata": {},
     "output_type": "execute_result"
    }
   ],
   "source": [
    "df_v02.occupation.unique()"
   ]
  },
  {
   "cell_type": "code",
   "execution_count": 38,
   "metadata": {
    "scrolled": true
   },
   "outputs": [
    {
     "name": "stdout",
     "output_type": "stream",
     "text": [
      "number of drivers with question 5 criteria accepting the coupon is 393\n",
      "number of drivers with question 5 criteria declining the coupon is 158\n",
      "total number of drivers with question 5 criteria 551\n",
      "proportion of drivers with question 5 criteria accepting the coupon is 0.7132\n",
      "proportion of drivers with queston 5 creteria declining the coupon is 0.2868\n"
     ]
    }
   ],
   "source": [
    "# using the same methods as in question 4 above adjusting for new filtering creteria\n",
    "# please note that variable 'bar_visits' was created in question 4 above\n",
    "\n",
    "question5_yes = df_v02.loc[(df_v02['Bar'].isin(bar_visits)) & (df_v02['passanger'] != 'Kid(s)') & (df_v02['occupation'] != 'Farming Fishing & Forestry') & (df_v02['Y'] == 1)].shape[0]\n",
    "print('number of drivers with question 5 criteria accepting the coupon is ' + str(question5_yes))\n",
    "\n",
    "question5_no = df_v02.loc[(df_v02['Bar'].isin(bar_visits)) & (df_v02['passanger'] != 'Kid(s)') & (df_v02['occupation'] != 'Farming Fishing & Forestry') & (df_v02['Y'] == 0)].shape[0]\n",
    "print('number of drivers with question 5 criteria declining the coupon is ' + str(question5_no))\n",
    "\n",
    "question5_total = question5_yes + question5_no\n",
    "print('total number of drivers with question 5 criteria ' + str(question5_total))\n",
    "\n",
    "print('proportion of drivers with question 5 criteria accepting the coupon is ' + str(\"{:.4f}\".format(question5_yes/question5_total)))\n",
    "print('proportion of drivers with queston 5 creteria declining the coupon is ' + str(\"{:.4f}\".format(question5_no/question5_total)))"
   ]
  },
  {
   "cell_type": "code",
   "execution_count": 39,
   "metadata": {},
   "outputs": [],
   "source": [
    "# trying out .groupby() method ... disregard for now :-)\n",
    "#len(df_v02['Bar'])\n",
    "#df_v02.groupby(df_v02['Bar']\n",
    "#df_v02.groupby('Bar').agg(sum)[['Y']]\n",
    "#a = pd.DataFrame(df_v02.groupby('Bar').agg(sum)['Y'])"
   ]
  },
  {
   "cell_type": "markdown",
   "metadata": {},
   "source": [
    "### <span style=\"color:#1A9DE6\">_6. identifying the acceptance rate between those drivers who go to bars more than once a month, had passengers that were not a kid, and were not widowed_</span>\n",
    "\n",
    " ### **our observation is that drivers in question 6 category have the same acceptance rate of 71% as in conditions for question 5 which means that being in occupations other than farming, fishing, or forestry and being not widowed had no bearing on bar coupon's acceptance/decline rate**\n",
    "\n",
    "\n",
    "6. initial choice of conditions:\n",
    "\n",
    "- go to bars more than once a month, had passengers that were not a kid, and were not widowed *OR*\n",
    "- go to bars more than once a month and are under the age of 30 *OR*\n",
    "- go to cheap restaurants more than 4 times a month and income is less than 50K. \n",
    "\n"
   ]
  },
  {
   "cell_type": "code",
   "execution_count": 40,
   "metadata": {},
   "outputs": [
    {
     "data": {
      "text/html": [
       "<div>\n",
       "<style scoped>\n",
       "    .dataframe tbody tr th:only-of-type {\n",
       "        vertical-align: middle;\n",
       "    }\n",
       "\n",
       "    .dataframe tbody tr th {\n",
       "        vertical-align: top;\n",
       "    }\n",
       "\n",
       "    .dataframe thead th {\n",
       "        text-align: right;\n",
       "    }\n",
       "</style>\n",
       "<table border=\"1\" class=\"dataframe\">\n",
       "  <thead>\n",
       "    <tr style=\"text-align: right;\">\n",
       "      <th></th>\n",
       "      <th>destination</th>\n",
       "      <th>passanger</th>\n",
       "      <th>weather</th>\n",
       "      <th>temperature</th>\n",
       "      <th>time</th>\n",
       "      <th>coupon</th>\n",
       "      <th>expiration</th>\n",
       "      <th>gender</th>\n",
       "      <th>age</th>\n",
       "      <th>maritalStatus</th>\n",
       "      <th>has_children</th>\n",
       "      <th>education</th>\n",
       "      <th>occupation</th>\n",
       "      <th>income</th>\n",
       "      <th>Bar</th>\n",
       "      <th>CoffeeHouse</th>\n",
       "      <th>CarryAway</th>\n",
       "      <th>RestaurantLessThan20</th>\n",
       "      <th>Restaurant20To50</th>\n",
       "      <th>toCoupon_GEQ5min</th>\n",
       "      <th>toCoupon_GEQ15min</th>\n",
       "      <th>toCoupon_GEQ25min</th>\n",
       "      <th>direction_same</th>\n",
       "      <th>direction_opp</th>\n",
       "      <th>Y</th>\n",
       "    </tr>\n",
       "  </thead>\n",
       "  <tbody>\n",
       "    <tr>\n",
       "      <th>5500</th>\n",
       "      <td>No Urgent Place</td>\n",
       "      <td>Alone</td>\n",
       "      <td>Sunny</td>\n",
       "      <td>80</td>\n",
       "      <td>10AM</td>\n",
       "      <td>Bar</td>\n",
       "      <td>1d</td>\n",
       "      <td>Male</td>\n",
       "      <td>21</td>\n",
       "      <td>Unmarried partner</td>\n",
       "      <td>0</td>\n",
       "      <td>Some college - no degree</td>\n",
       "      <td>Education&amp;Training&amp;Library</td>\n",
       "      <td>$25000 - $37499</td>\n",
       "      <td>4~8</td>\n",
       "      <td>less1</td>\n",
       "      <td>1~3</td>\n",
       "      <td>less1</td>\n",
       "      <td>never</td>\n",
       "      <td>1</td>\n",
       "      <td>0</td>\n",
       "      <td>0</td>\n",
       "      <td>0</td>\n",
       "      <td>1</td>\n",
       "      <td>1</td>\n",
       "    </tr>\n",
       "    <tr>\n",
       "      <th>11100</th>\n",
       "      <td>Work</td>\n",
       "      <td>Alone</td>\n",
       "      <td>Snowy</td>\n",
       "      <td>30</td>\n",
       "      <td>7AM</td>\n",
       "      <td>Bar</td>\n",
       "      <td>1d</td>\n",
       "      <td>Male</td>\n",
       "      <td>50</td>\n",
       "      <td>Divorced</td>\n",
       "      <td>1</td>\n",
       "      <td>Some college - no degree</td>\n",
       "      <td>Production Occupations</td>\n",
       "      <td>$37500 - $49999</td>\n",
       "      <td>1~3</td>\n",
       "      <td>4~8</td>\n",
       "      <td>4~8</td>\n",
       "      <td>gt8</td>\n",
       "      <td>4~8</td>\n",
       "      <td>1</td>\n",
       "      <td>1</td>\n",
       "      <td>1</td>\n",
       "      <td>0</td>\n",
       "      <td>1</td>\n",
       "      <td>1</td>\n",
       "    </tr>\n",
       "    <tr>\n",
       "      <th>6842</th>\n",
       "      <td>Work</td>\n",
       "      <td>Alone</td>\n",
       "      <td>Rainy</td>\n",
       "      <td>55</td>\n",
       "      <td>7AM</td>\n",
       "      <td>Bar</td>\n",
       "      <td>1d</td>\n",
       "      <td>Male</td>\n",
       "      <td>26</td>\n",
       "      <td>Married partner</td>\n",
       "      <td>1</td>\n",
       "      <td>Bachelors degree</td>\n",
       "      <td>Management</td>\n",
       "      <td>$50000 - $62499</td>\n",
       "      <td>never</td>\n",
       "      <td>less1</td>\n",
       "      <td>less1</td>\n",
       "      <td>1~3</td>\n",
       "      <td>less1</td>\n",
       "      <td>1</td>\n",
       "      <td>0</td>\n",
       "      <td>0</td>\n",
       "      <td>0</td>\n",
       "      <td>1</td>\n",
       "      <td>0</td>\n",
       "    </tr>\n",
       "  </tbody>\n",
       "</table>\n",
       "</div>"
      ],
      "text/plain": [
       "           destination passanger weather  temperature  time coupon expiration  \\\n",
       "5500   No Urgent Place     Alone   Sunny           80  10AM    Bar         1d   \n",
       "11100             Work     Alone   Snowy           30   7AM    Bar         1d   \n",
       "6842              Work     Alone   Rainy           55   7AM    Bar         1d   \n",
       "\n",
       "      gender  age      maritalStatus  has_children                 education  \\\n",
       "5500    Male   21  Unmarried partner             0  Some college - no degree   \n",
       "11100   Male   50           Divorced             1  Some college - no degree   \n",
       "6842    Male   26    Married partner             1          Bachelors degree   \n",
       "\n",
       "                       occupation           income    Bar CoffeeHouse  \\\n",
       "5500   Education&Training&Library  $25000 - $37499    4~8       less1   \n",
       "11100      Production Occupations  $37500 - $49999    1~3         4~8   \n",
       "6842                   Management  $50000 - $62499  never       less1   \n",
       "\n",
       "      CarryAway RestaurantLessThan20 Restaurant20To50  toCoupon_GEQ5min  \\\n",
       "5500        1~3                less1            never                 1   \n",
       "11100       4~8                  gt8              4~8                 1   \n",
       "6842      less1                  1~3            less1                 1   \n",
       "\n",
       "       toCoupon_GEQ15min  toCoupon_GEQ25min  direction_same  direction_opp  Y  \n",
       "5500                   0                  0               0              1  1  \n",
       "11100                  1                  1               0              1  1  \n",
       "6842                   0                  0               0              1  0  "
      ]
     },
     "execution_count": 40,
     "metadata": {},
     "output_type": "execute_result"
    }
   ],
   "source": [
    "# running this code to have the data handy which avoids scolling up and down within this notebook :-)\n",
    "df_v02.sample(3)"
   ]
  },
  {
   "cell_type": "code",
   "execution_count": 41,
   "metadata": {},
   "outputs": [
    {
     "data": {
      "text/plain": [
       "array(['never', 'less1', '1~3', 'gt8', nan, '4~8'], dtype=object)"
      ]
     },
     "execution_count": 41,
     "metadata": {},
     "output_type": "execute_result"
    }
   ],
   "source": [
    "# running this code to have the data handy which avoids scolling up and down within this notebook :-)\n",
    "df_v02.Bar.unique()"
   ]
  },
  {
   "cell_type": "code",
   "execution_count": 42,
   "metadata": {},
   "outputs": [
    {
     "data": {
      "text/plain": [
       "array(['Kid(s)', 'Alone', 'Friend(s)', 'Partner'], dtype=object)"
      ]
     },
     "execution_count": 42,
     "metadata": {},
     "output_type": "execute_result"
    }
   ],
   "source": [
    "# running this code to have the data handy which avoids scolling up and down within this notebook :-)\n",
    "df_v02.passanger.unique()"
   ]
  },
  {
   "cell_type": "code",
   "execution_count": 43,
   "metadata": {},
   "outputs": [
    {
     "data": {
      "text/plain": [
       "array(['Unmarried partner', 'Single', 'Married partner', 'Divorced',\n",
       "       'Widowed'], dtype=object)"
      ]
     },
     "execution_count": 43,
     "metadata": {},
     "output_type": "execute_result"
    }
   ],
   "source": [
    "# running this code to have the data handy which avoids scolling up and down within this notebook :-)\n",
    "df_v02.maritalStatus.unique()"
   ]
  },
  {
   "cell_type": "code",
   "execution_count": 261,
   "metadata": {},
   "outputs": [
    {
     "name": "stdout",
     "output_type": "stream",
     "text": [
      "number of drivers with question 6 criteria accepting the coupon is 393\n",
      "number of drivers with question 6 criteria declining the coupon is 158\n",
      "total number of drivers with question 6 criteria 551\n",
      "proportion of drivers with question 6 criteria accepting the coupon is 0.7132\n",
      "proportion of drivers with queston 6 creteria declining the coupon is 0.2868\n"
     ]
    }
   ],
   "source": [
    "# using the same methods as in question 4 and 5 above adjusting for \"go to bars more than once a month, had passengers that were not a kid, and were not widowed\"\n",
    "\n",
    "question6_yes = df_v02.loc[(df_v02['Bar'].isin(bar_visits)) & (df_v02['passanger'] != 'Kid(s)') & (df_v02['maritalStatus'] != 'Widowed') & (df_v02['Y'] == 1)].shape[0]\n",
    "print('number of drivers with question 6 criteria accepting the coupon is ' + str(question6_yes))\n",
    "\n",
    "question6_no = df_v02.loc[(df_v02['Bar'].isin(bar_visits)) & (df_v02['passanger'] != 'Kid(s)') & (df_v02['maritalStatus'] != 'Widowed') & (df_v02['Y'] == 0)].shape[0]\n",
    "print('number of drivers with question 6 criteria declining the coupon is ' + str(question6_no))\n",
    "\n",
    "question6_total = question6_yes + question6_no\n",
    "print('total number of drivers with question 6 criteria ' + str(question6_total))\n",
    "\n",
    "print('proportion of drivers with question 6 criteria accepting the coupon is ' + str(\"{:.4f}\".format(question6_yes/question6_total)))\n",
    "print('proportion of drivers with queston 6 creteria declining the coupon is ' + str(\"{:.4f}\".format(question6_no/question6_total)))"
   ]
  },
  {
   "cell_type": "markdown",
   "metadata": {},
   "source": [
    "7.  Based on these observations, what do you hypothesize about drivers who accepted the bar coupons?"
   ]
  },
  {
   "cell_type": "markdown",
   "metadata": {},
   "source": [
    "**observations so far when it comes to drivers who accepted the bar coupon: ...**\n",
    "\n",
    "* despite the fact that entire population of drivers tend to decline the bar coupon, there are certain drivers that do\n",
    "* and those drivers are typically already gone to a bar in past with increasing rate of acceptance as the number of past bar visits increases\n",
    "* also, it appeared that being in occupations other than farming, fishing, or forestry or being not widowed had no bearing on bar coupon's acceptance/decline rate"
   ]
  },
  {
   "cell_type": "markdown",
   "metadata": {},
   "source": [
    "### <span style=\"color:#1A9DE6\">in this section we will dive into independent investigation</span>\n",
    "\n",
    "_using the bar coupon example as motivation, we will explore 'Restaurant(20-50)' coupon group and will determine the characteristics of passengers who accept/decline the coupons_  "
   ]
  },
  {
   "cell_type": "code",
   "execution_count": 44,
   "metadata": {},
   "outputs": [],
   "source": [
    "# first things first, creating a new dataframe that will contain only 'Restaurant(20-50)' coupons\n",
    "df_v03 = df_v01[df_v01['coupon'] == 'Restaurant(20-50)']"
   ]
  },
  {
   "cell_type": "markdown",
   "metadata": {},
   "source": [
    "<span style=\"color:#1A9DE6\">_next several lines of code will analyze and diagnose the new dataframe_</span>"
   ]
  },
  {
   "cell_type": "code",
   "execution_count": 46,
   "metadata": {},
   "outputs": [
    {
     "data": {
      "text/html": [
       "<div>\n",
       "<style scoped>\n",
       "    .dataframe tbody tr th:only-of-type {\n",
       "        vertical-align: middle;\n",
       "    }\n",
       "\n",
       "    .dataframe tbody tr th {\n",
       "        vertical-align: top;\n",
       "    }\n",
       "\n",
       "    .dataframe thead th {\n",
       "        text-align: right;\n",
       "    }\n",
       "</style>\n",
       "<table border=\"1\" class=\"dataframe\">\n",
       "  <thead>\n",
       "    <tr style=\"text-align: right;\">\n",
       "      <th></th>\n",
       "      <th>destination</th>\n",
       "      <th>passanger</th>\n",
       "      <th>weather</th>\n",
       "      <th>temperature</th>\n",
       "      <th>time</th>\n",
       "      <th>coupon</th>\n",
       "      <th>expiration</th>\n",
       "      <th>gender</th>\n",
       "      <th>age</th>\n",
       "      <th>maritalStatus</th>\n",
       "      <th>has_children</th>\n",
       "      <th>education</th>\n",
       "      <th>occupation</th>\n",
       "      <th>income</th>\n",
       "      <th>Bar</th>\n",
       "      <th>CoffeeHouse</th>\n",
       "      <th>CarryAway</th>\n",
       "      <th>RestaurantLessThan20</th>\n",
       "      <th>Restaurant20To50</th>\n",
       "      <th>toCoupon_GEQ5min</th>\n",
       "      <th>toCoupon_GEQ15min</th>\n",
       "      <th>toCoupon_GEQ25min</th>\n",
       "      <th>direction_same</th>\n",
       "      <th>direction_opp</th>\n",
       "      <th>Y</th>\n",
       "    </tr>\n",
       "  </thead>\n",
       "  <tbody>\n",
       "    <tr>\n",
       "      <th>14</th>\n",
       "      <td>Home</td>\n",
       "      <td>Alone</td>\n",
       "      <td>Sunny</td>\n",
       "      <td>55</td>\n",
       "      <td>6PM</td>\n",
       "      <td>Restaurant(20-50)</td>\n",
       "      <td>1d</td>\n",
       "      <td>Female</td>\n",
       "      <td>21</td>\n",
       "      <td>Unmarried partner</td>\n",
       "      <td>1</td>\n",
       "      <td>Some college - no degree</td>\n",
       "      <td>Unemployed</td>\n",
       "      <td>$37500 - $49999</td>\n",
       "      <td>never</td>\n",
       "      <td>never</td>\n",
       "      <td>NaN</td>\n",
       "      <td>4~8</td>\n",
       "      <td>1~3</td>\n",
       "      <td>1</td>\n",
       "      <td>1</td>\n",
       "      <td>0</td>\n",
       "      <td>0</td>\n",
       "      <td>1</td>\n",
       "      <td>1</td>\n",
       "    </tr>\n",
       "    <tr>\n",
       "      <th>18</th>\n",
       "      <td>Work</td>\n",
       "      <td>Alone</td>\n",
       "      <td>Sunny</td>\n",
       "      <td>80</td>\n",
       "      <td>7AM</td>\n",
       "      <td>Restaurant(20-50)</td>\n",
       "      <td>1d</td>\n",
       "      <td>Female</td>\n",
       "      <td>21</td>\n",
       "      <td>Unmarried partner</td>\n",
       "      <td>1</td>\n",
       "      <td>Some college - no degree</td>\n",
       "      <td>Unemployed</td>\n",
       "      <td>$37500 - $49999</td>\n",
       "      <td>never</td>\n",
       "      <td>never</td>\n",
       "      <td>NaN</td>\n",
       "      <td>4~8</td>\n",
       "      <td>1~3</td>\n",
       "      <td>1</td>\n",
       "      <td>1</td>\n",
       "      <td>0</td>\n",
       "      <td>0</td>\n",
       "      <td>1</td>\n",
       "      <td>1</td>\n",
       "    </tr>\n",
       "    <tr>\n",
       "      <th>36</th>\n",
       "      <td>Home</td>\n",
       "      <td>Alone</td>\n",
       "      <td>Sunny</td>\n",
       "      <td>55</td>\n",
       "      <td>6PM</td>\n",
       "      <td>Restaurant(20-50)</td>\n",
       "      <td>1d</td>\n",
       "      <td>Male</td>\n",
       "      <td>21</td>\n",
       "      <td>Single</td>\n",
       "      <td>0</td>\n",
       "      <td>Bachelors degree</td>\n",
       "      <td>Architecture &amp; Engineering</td>\n",
       "      <td>$62500 - $74999</td>\n",
       "      <td>never</td>\n",
       "      <td>less1</td>\n",
       "      <td>4~8</td>\n",
       "      <td>4~8</td>\n",
       "      <td>less1</td>\n",
       "      <td>1</td>\n",
       "      <td>1</td>\n",
       "      <td>0</td>\n",
       "      <td>0</td>\n",
       "      <td>1</td>\n",
       "      <td>0</td>\n",
       "    </tr>\n",
       "    <tr>\n",
       "      <th>40</th>\n",
       "      <td>Work</td>\n",
       "      <td>Alone</td>\n",
       "      <td>Sunny</td>\n",
       "      <td>80</td>\n",
       "      <td>7AM</td>\n",
       "      <td>Restaurant(20-50)</td>\n",
       "      <td>1d</td>\n",
       "      <td>Male</td>\n",
       "      <td>21</td>\n",
       "      <td>Single</td>\n",
       "      <td>0</td>\n",
       "      <td>Bachelors degree</td>\n",
       "      <td>Architecture &amp; Engineering</td>\n",
       "      <td>$62500 - $74999</td>\n",
       "      <td>never</td>\n",
       "      <td>less1</td>\n",
       "      <td>4~8</td>\n",
       "      <td>4~8</td>\n",
       "      <td>less1</td>\n",
       "      <td>1</td>\n",
       "      <td>1</td>\n",
       "      <td>0</td>\n",
       "      <td>0</td>\n",
       "      <td>1</td>\n",
       "      <td>0</td>\n",
       "    </tr>\n",
       "    <tr>\n",
       "      <th>58</th>\n",
       "      <td>Home</td>\n",
       "      <td>Alone</td>\n",
       "      <td>Sunny</td>\n",
       "      <td>55</td>\n",
       "      <td>6PM</td>\n",
       "      <td>Restaurant(20-50)</td>\n",
       "      <td>1d</td>\n",
       "      <td>Male</td>\n",
       "      <td>46</td>\n",
       "      <td>Single</td>\n",
       "      <td>0</td>\n",
       "      <td>Some college - no degree</td>\n",
       "      <td>Student</td>\n",
       "      <td>$12500 - $24999</td>\n",
       "      <td>never</td>\n",
       "      <td>4~8</td>\n",
       "      <td>1~3</td>\n",
       "      <td>1~3</td>\n",
       "      <td>never</td>\n",
       "      <td>1</td>\n",
       "      <td>1</td>\n",
       "      <td>0</td>\n",
       "      <td>0</td>\n",
       "      <td>1</td>\n",
       "      <td>0</td>\n",
       "    </tr>\n",
       "  </tbody>\n",
       "</table>\n",
       "</div>"
      ],
      "text/plain": [
       "   destination passanger weather  temperature time             coupon  \\\n",
       "14        Home     Alone   Sunny           55  6PM  Restaurant(20-50)   \n",
       "18        Work     Alone   Sunny           80  7AM  Restaurant(20-50)   \n",
       "36        Home     Alone   Sunny           55  6PM  Restaurant(20-50)   \n",
       "40        Work     Alone   Sunny           80  7AM  Restaurant(20-50)   \n",
       "58        Home     Alone   Sunny           55  6PM  Restaurant(20-50)   \n",
       "\n",
       "   expiration  gender  age      maritalStatus  has_children  \\\n",
       "14         1d  Female   21  Unmarried partner             1   \n",
       "18         1d  Female   21  Unmarried partner             1   \n",
       "36         1d    Male   21             Single             0   \n",
       "40         1d    Male   21             Single             0   \n",
       "58         1d    Male   46             Single             0   \n",
       "\n",
       "                   education                  occupation           income  \\\n",
       "14  Some college - no degree                  Unemployed  $37500 - $49999   \n",
       "18  Some college - no degree                  Unemployed  $37500 - $49999   \n",
       "36          Bachelors degree  Architecture & Engineering  $62500 - $74999   \n",
       "40          Bachelors degree  Architecture & Engineering  $62500 - $74999   \n",
       "58  Some college - no degree                     Student  $12500 - $24999   \n",
       "\n",
       "      Bar CoffeeHouse CarryAway RestaurantLessThan20 Restaurant20To50  \\\n",
       "14  never       never       NaN                  4~8              1~3   \n",
       "18  never       never       NaN                  4~8              1~3   \n",
       "36  never       less1       4~8                  4~8            less1   \n",
       "40  never       less1       4~8                  4~8            less1   \n",
       "58  never         4~8       1~3                  1~3            never   \n",
       "\n",
       "    toCoupon_GEQ5min  toCoupon_GEQ15min  toCoupon_GEQ25min  direction_same  \\\n",
       "14                 1                  1                  0               0   \n",
       "18                 1                  1                  0               0   \n",
       "36                 1                  1                  0               0   \n",
       "40                 1                  1                  0               0   \n",
       "58                 1                  1                  0               0   \n",
       "\n",
       "    direction_opp  Y  \n",
       "14              1  1  \n",
       "18              1  1  \n",
       "36              1  0  \n",
       "40              1  0  \n",
       "58              1  0  "
      ]
     },
     "execution_count": 46,
     "metadata": {},
     "output_type": "execute_result"
    }
   ],
   "source": [
    "df_v03.head()"
   ]
  },
  {
   "cell_type": "code",
   "execution_count": 47,
   "metadata": {},
   "outputs": [
    {
     "data": {
      "text/html": [
       "<div>\n",
       "<style scoped>\n",
       "    .dataframe tbody tr th:only-of-type {\n",
       "        vertical-align: middle;\n",
       "    }\n",
       "\n",
       "    .dataframe tbody tr th {\n",
       "        vertical-align: top;\n",
       "    }\n",
       "\n",
       "    .dataframe thead th {\n",
       "        text-align: right;\n",
       "    }\n",
       "</style>\n",
       "<table border=\"1\" class=\"dataframe\">\n",
       "  <thead>\n",
       "    <tr style=\"text-align: right;\">\n",
       "      <th></th>\n",
       "      <th>destination</th>\n",
       "      <th>passanger</th>\n",
       "      <th>weather</th>\n",
       "      <th>temperature</th>\n",
       "      <th>time</th>\n",
       "      <th>coupon</th>\n",
       "      <th>expiration</th>\n",
       "      <th>gender</th>\n",
       "      <th>age</th>\n",
       "      <th>maritalStatus</th>\n",
       "      <th>has_children</th>\n",
       "      <th>education</th>\n",
       "      <th>occupation</th>\n",
       "      <th>income</th>\n",
       "      <th>Bar</th>\n",
       "      <th>CoffeeHouse</th>\n",
       "      <th>CarryAway</th>\n",
       "      <th>RestaurantLessThan20</th>\n",
       "      <th>Restaurant20To50</th>\n",
       "      <th>toCoupon_GEQ5min</th>\n",
       "      <th>toCoupon_GEQ15min</th>\n",
       "      <th>toCoupon_GEQ25min</th>\n",
       "      <th>direction_same</th>\n",
       "      <th>direction_opp</th>\n",
       "      <th>Y</th>\n",
       "    </tr>\n",
       "  </thead>\n",
       "  <tbody>\n",
       "    <tr>\n",
       "      <th>12657</th>\n",
       "      <td>Home</td>\n",
       "      <td>Alone</td>\n",
       "      <td>Sunny</td>\n",
       "      <td>80</td>\n",
       "      <td>6PM</td>\n",
       "      <td>Restaurant(20-50)</td>\n",
       "      <td>1d</td>\n",
       "      <td>Male</td>\n",
       "      <td>31</td>\n",
       "      <td>Married partner</td>\n",
       "      <td>1</td>\n",
       "      <td>Bachelors degree</td>\n",
       "      <td>Business &amp; Financial</td>\n",
       "      <td>$100000 or More</td>\n",
       "      <td>less1</td>\n",
       "      <td>never</td>\n",
       "      <td>4~8</td>\n",
       "      <td>gt8</td>\n",
       "      <td>less1</td>\n",
       "      <td>1</td>\n",
       "      <td>0</td>\n",
       "      <td>0</td>\n",
       "      <td>1</td>\n",
       "      <td>0</td>\n",
       "      <td>0</td>\n",
       "    </tr>\n",
       "    <tr>\n",
       "      <th>12661</th>\n",
       "      <td>Work</td>\n",
       "      <td>Alone</td>\n",
       "      <td>Sunny</td>\n",
       "      <td>80</td>\n",
       "      <td>7AM</td>\n",
       "      <td>Restaurant(20-50)</td>\n",
       "      <td>2h</td>\n",
       "      <td>Male</td>\n",
       "      <td>31</td>\n",
       "      <td>Married partner</td>\n",
       "      <td>1</td>\n",
       "      <td>Bachelors degree</td>\n",
       "      <td>Business &amp; Financial</td>\n",
       "      <td>$100000 or More</td>\n",
       "      <td>less1</td>\n",
       "      <td>never</td>\n",
       "      <td>4~8</td>\n",
       "      <td>gt8</td>\n",
       "      <td>less1</td>\n",
       "      <td>1</td>\n",
       "      <td>0</td>\n",
       "      <td>0</td>\n",
       "      <td>1</td>\n",
       "      <td>0</td>\n",
       "      <td>0</td>\n",
       "    </tr>\n",
       "    <tr>\n",
       "      <th>12669</th>\n",
       "      <td>No Urgent Place</td>\n",
       "      <td>Partner</td>\n",
       "      <td>Sunny</td>\n",
       "      <td>30</td>\n",
       "      <td>10AM</td>\n",
       "      <td>Restaurant(20-50)</td>\n",
       "      <td>1d</td>\n",
       "      <td>Male</td>\n",
       "      <td>26</td>\n",
       "      <td>Single</td>\n",
       "      <td>0</td>\n",
       "      <td>Bachelors degree</td>\n",
       "      <td>Sales &amp; Related</td>\n",
       "      <td>$75000 - $87499</td>\n",
       "      <td>never</td>\n",
       "      <td>never</td>\n",
       "      <td>1~3</td>\n",
       "      <td>4~8</td>\n",
       "      <td>1~3</td>\n",
       "      <td>1</td>\n",
       "      <td>0</td>\n",
       "      <td>0</td>\n",
       "      <td>0</td>\n",
       "      <td>1</td>\n",
       "      <td>1</td>\n",
       "    </tr>\n",
       "    <tr>\n",
       "      <th>12676</th>\n",
       "      <td>Home</td>\n",
       "      <td>Alone</td>\n",
       "      <td>Sunny</td>\n",
       "      <td>80</td>\n",
       "      <td>6PM</td>\n",
       "      <td>Restaurant(20-50)</td>\n",
       "      <td>1d</td>\n",
       "      <td>Male</td>\n",
       "      <td>26</td>\n",
       "      <td>Single</td>\n",
       "      <td>0</td>\n",
       "      <td>Bachelors degree</td>\n",
       "      <td>Sales &amp; Related</td>\n",
       "      <td>$75000 - $87499</td>\n",
       "      <td>never</td>\n",
       "      <td>never</td>\n",
       "      <td>1~3</td>\n",
       "      <td>4~8</td>\n",
       "      <td>1~3</td>\n",
       "      <td>1</td>\n",
       "      <td>0</td>\n",
       "      <td>0</td>\n",
       "      <td>1</td>\n",
       "      <td>0</td>\n",
       "      <td>1</td>\n",
       "    </tr>\n",
       "    <tr>\n",
       "      <th>12683</th>\n",
       "      <td>Work</td>\n",
       "      <td>Alone</td>\n",
       "      <td>Sunny</td>\n",
       "      <td>80</td>\n",
       "      <td>7AM</td>\n",
       "      <td>Restaurant(20-50)</td>\n",
       "      <td>2h</td>\n",
       "      <td>Male</td>\n",
       "      <td>26</td>\n",
       "      <td>Single</td>\n",
       "      <td>0</td>\n",
       "      <td>Bachelors degree</td>\n",
       "      <td>Sales &amp; Related</td>\n",
       "      <td>$75000 - $87499</td>\n",
       "      <td>never</td>\n",
       "      <td>never</td>\n",
       "      <td>1~3</td>\n",
       "      <td>4~8</td>\n",
       "      <td>1~3</td>\n",
       "      <td>1</td>\n",
       "      <td>0</td>\n",
       "      <td>0</td>\n",
       "      <td>1</td>\n",
       "      <td>0</td>\n",
       "      <td>0</td>\n",
       "    </tr>\n",
       "  </tbody>\n",
       "</table>\n",
       "</div>"
      ],
      "text/plain": [
       "           destination passanger weather  temperature  time  \\\n",
       "12657             Home     Alone   Sunny           80   6PM   \n",
       "12661             Work     Alone   Sunny           80   7AM   \n",
       "12669  No Urgent Place   Partner   Sunny           30  10AM   \n",
       "12676             Home     Alone   Sunny           80   6PM   \n",
       "12683             Work     Alone   Sunny           80   7AM   \n",
       "\n",
       "                  coupon expiration gender  age    maritalStatus  \\\n",
       "12657  Restaurant(20-50)         1d   Male   31  Married partner   \n",
       "12661  Restaurant(20-50)         2h   Male   31  Married partner   \n",
       "12669  Restaurant(20-50)         1d   Male   26           Single   \n",
       "12676  Restaurant(20-50)         1d   Male   26           Single   \n",
       "12683  Restaurant(20-50)         2h   Male   26           Single   \n",
       "\n",
       "       has_children         education            occupation           income  \\\n",
       "12657             1  Bachelors degree  Business & Financial  $100000 or More   \n",
       "12661             1  Bachelors degree  Business & Financial  $100000 or More   \n",
       "12669             0  Bachelors degree       Sales & Related  $75000 - $87499   \n",
       "12676             0  Bachelors degree       Sales & Related  $75000 - $87499   \n",
       "12683             0  Bachelors degree       Sales & Related  $75000 - $87499   \n",
       "\n",
       "         Bar CoffeeHouse CarryAway RestaurantLessThan20 Restaurant20To50  \\\n",
       "12657  less1       never       4~8                  gt8            less1   \n",
       "12661  less1       never       4~8                  gt8            less1   \n",
       "12669  never       never       1~3                  4~8              1~3   \n",
       "12676  never       never       1~3                  4~8              1~3   \n",
       "12683  never       never       1~3                  4~8              1~3   \n",
       "\n",
       "       toCoupon_GEQ5min  toCoupon_GEQ15min  toCoupon_GEQ25min  direction_same  \\\n",
       "12657                 1                  0                  0               1   \n",
       "12661                 1                  0                  0               1   \n",
       "12669                 1                  0                  0               0   \n",
       "12676                 1                  0                  0               1   \n",
       "12683                 1                  0                  0               1   \n",
       "\n",
       "       direction_opp  Y  \n",
       "12657              0  0  \n",
       "12661              0  0  \n",
       "12669              1  1  \n",
       "12676              0  1  \n",
       "12683              0  0  "
      ]
     },
     "execution_count": 47,
     "metadata": {},
     "output_type": "execute_result"
    }
   ],
   "source": [
    "df_v03.tail()"
   ]
  },
  {
   "cell_type": "code",
   "execution_count": 49,
   "metadata": {},
   "outputs": [
    {
     "name": "stdout",
     "output_type": "stream",
     "text": [
      "<class 'pandas.core.frame.DataFrame'>\n",
      "Index: 1492 entries, 14 to 12683\n",
      "Data columns (total 25 columns):\n",
      " #   Column                Non-Null Count  Dtype \n",
      "---  ------                --------------  ----- \n",
      " 0   destination           1492 non-null   object\n",
      " 1   passanger             1492 non-null   object\n",
      " 2   weather               1492 non-null   object\n",
      " 3   temperature           1492 non-null   int64 \n",
      " 4   time                  1492 non-null   object\n",
      " 5   coupon                1492 non-null   object\n",
      " 6   expiration            1492 non-null   object\n",
      " 7   gender                1492 non-null   object\n",
      " 8   age                   1492 non-null   int32 \n",
      " 9   maritalStatus         1492 non-null   object\n",
      " 10  has_children          1492 non-null   int64 \n",
      " 11  education             1492 non-null   object\n",
      " 12  occupation            1492 non-null   object\n",
      " 13  income                1492 non-null   object\n",
      " 14  Bar                   1482 non-null   object\n",
      " 15  CoffeeHouse           1465 non-null   object\n",
      " 16  CarryAway             1478 non-null   object\n",
      " 17  RestaurantLessThan20  1480 non-null   object\n",
      " 18  Restaurant20To50      1470 non-null   object\n",
      " 19  toCoupon_GEQ5min      1492 non-null   int64 \n",
      " 20  toCoupon_GEQ15min     1492 non-null   int64 \n",
      " 21  toCoupon_GEQ25min     1492 non-null   int64 \n",
      " 22  direction_same        1492 non-null   int64 \n",
      " 23  direction_opp         1492 non-null   int64 \n",
      " 24  Y                     1492 non-null   int64 \n",
      "dtypes: int32(1), int64(8), object(16)\n",
      "memory usage: 297.2+ KB\n"
     ]
    }
   ],
   "source": [
    "# 1492 rows ... this corresponds precisely with the initial dataframe's unique values in 'coupon'\n",
    "df_v03.info()"
   ]
  },
  {
   "cell_type": "code",
   "execution_count": 51,
   "metadata": {},
   "outputs": [
    {
     "data": {
      "text/plain": [
       "(1492, 25)"
      ]
     },
     "execution_count": 51,
     "metadata": {},
     "output_type": "execute_result"
    }
   ],
   "source": [
    "df_v03.shape"
   ]
  },
  {
   "cell_type": "code",
   "execution_count": 52,
   "metadata": {},
   "outputs": [
    {
     "data": {
      "text/html": [
       "<div>\n",
       "<style scoped>\n",
       "    .dataframe tbody tr th:only-of-type {\n",
       "        vertical-align: middle;\n",
       "    }\n",
       "\n",
       "    .dataframe tbody tr th {\n",
       "        vertical-align: top;\n",
       "    }\n",
       "\n",
       "    .dataframe thead th {\n",
       "        text-align: right;\n",
       "    }\n",
       "</style>\n",
       "<table border=\"1\" class=\"dataframe\">\n",
       "  <thead>\n",
       "    <tr style=\"text-align: right;\">\n",
       "      <th></th>\n",
       "      <th>destination</th>\n",
       "      <th>passanger</th>\n",
       "      <th>weather</th>\n",
       "      <th>temperature</th>\n",
       "      <th>time</th>\n",
       "      <th>coupon</th>\n",
       "      <th>expiration</th>\n",
       "      <th>gender</th>\n",
       "      <th>age</th>\n",
       "      <th>maritalStatus</th>\n",
       "      <th>has_children</th>\n",
       "      <th>education</th>\n",
       "      <th>occupation</th>\n",
       "      <th>income</th>\n",
       "      <th>Bar</th>\n",
       "      <th>CoffeeHouse</th>\n",
       "      <th>CarryAway</th>\n",
       "      <th>RestaurantLessThan20</th>\n",
       "      <th>Restaurant20To50</th>\n",
       "      <th>toCoupon_GEQ5min</th>\n",
       "      <th>toCoupon_GEQ15min</th>\n",
       "      <th>toCoupon_GEQ25min</th>\n",
       "      <th>direction_same</th>\n",
       "      <th>direction_opp</th>\n",
       "      <th>Y</th>\n",
       "    </tr>\n",
       "  </thead>\n",
       "  <tbody>\n",
       "    <tr>\n",
       "      <th>2600</th>\n",
       "      <td>Work</td>\n",
       "      <td>Alone</td>\n",
       "      <td>Sunny</td>\n",
       "      <td>80</td>\n",
       "      <td>7AM</td>\n",
       "      <td>Restaurant(20-50)</td>\n",
       "      <td>1d</td>\n",
       "      <td>Male</td>\n",
       "      <td>50</td>\n",
       "      <td>Single</td>\n",
       "      <td>0</td>\n",
       "      <td>Some college - no degree</td>\n",
       "      <td>Office &amp; Administrative Support</td>\n",
       "      <td>$12500 - $24999</td>\n",
       "      <td>1~3</td>\n",
       "      <td>1~3</td>\n",
       "      <td>less1</td>\n",
       "      <td>1~3</td>\n",
       "      <td>less1</td>\n",
       "      <td>1</td>\n",
       "      <td>1</td>\n",
       "      <td>0</td>\n",
       "      <td>0</td>\n",
       "      <td>1</td>\n",
       "      <td>1</td>\n",
       "    </tr>\n",
       "    <tr>\n",
       "      <th>8691</th>\n",
       "      <td>Work</td>\n",
       "      <td>Alone</td>\n",
       "      <td>Snowy</td>\n",
       "      <td>30</td>\n",
       "      <td>7AM</td>\n",
       "      <td>Restaurant(20-50)</td>\n",
       "      <td>1d</td>\n",
       "      <td>Male</td>\n",
       "      <td>26</td>\n",
       "      <td>Single</td>\n",
       "      <td>0</td>\n",
       "      <td>Bachelors degree</td>\n",
       "      <td>Business &amp; Financial</td>\n",
       "      <td>$100000 or More</td>\n",
       "      <td>4~8</td>\n",
       "      <td>1~3</td>\n",
       "      <td>less1</td>\n",
       "      <td>1~3</td>\n",
       "      <td>less1</td>\n",
       "      <td>1</td>\n",
       "      <td>1</td>\n",
       "      <td>1</td>\n",
       "      <td>0</td>\n",
       "      <td>1</td>\n",
       "      <td>0</td>\n",
       "    </tr>\n",
       "    <tr>\n",
       "      <th>1114</th>\n",
       "      <td>Home</td>\n",
       "      <td>Alone</td>\n",
       "      <td>Sunny</td>\n",
       "      <td>55</td>\n",
       "      <td>6PM</td>\n",
       "      <td>Restaurant(20-50)</td>\n",
       "      <td>1d</td>\n",
       "      <td>Female</td>\n",
       "      <td>41</td>\n",
       "      <td>Married partner</td>\n",
       "      <td>1</td>\n",
       "      <td>Associates degree</td>\n",
       "      <td>Unemployed</td>\n",
       "      <td>$75000 - $87499</td>\n",
       "      <td>never</td>\n",
       "      <td>less1</td>\n",
       "      <td>4~8</td>\n",
       "      <td>1~3</td>\n",
       "      <td>less1</td>\n",
       "      <td>1</td>\n",
       "      <td>1</td>\n",
       "      <td>0</td>\n",
       "      <td>0</td>\n",
       "      <td>1</td>\n",
       "      <td>0</td>\n",
       "    </tr>\n",
       "  </tbody>\n",
       "</table>\n",
       "</div>"
      ],
      "text/plain": [
       "     destination passanger weather  temperature time             coupon  \\\n",
       "2600        Work     Alone   Sunny           80  7AM  Restaurant(20-50)   \n",
       "8691        Work     Alone   Snowy           30  7AM  Restaurant(20-50)   \n",
       "1114        Home     Alone   Sunny           55  6PM  Restaurant(20-50)   \n",
       "\n",
       "     expiration  gender  age    maritalStatus  has_children  \\\n",
       "2600         1d    Male   50           Single             0   \n",
       "8691         1d    Male   26           Single             0   \n",
       "1114         1d  Female   41  Married partner             1   \n",
       "\n",
       "                     education                       occupation  \\\n",
       "2600  Some college - no degree  Office & Administrative Support   \n",
       "8691          Bachelors degree             Business & Financial   \n",
       "1114         Associates degree                       Unemployed   \n",
       "\n",
       "               income    Bar CoffeeHouse CarryAway RestaurantLessThan20  \\\n",
       "2600  $12500 - $24999    1~3         1~3     less1                  1~3   \n",
       "8691  $100000 or More    4~8         1~3     less1                  1~3   \n",
       "1114  $75000 - $87499  never       less1       4~8                  1~3   \n",
       "\n",
       "     Restaurant20To50  toCoupon_GEQ5min  toCoupon_GEQ15min  toCoupon_GEQ25min  \\\n",
       "2600            less1                 1                  1                  0   \n",
       "8691            less1                 1                  1                  1   \n",
       "1114            less1                 1                  1                  0   \n",
       "\n",
       "      direction_same  direction_opp  Y  \n",
       "2600               0              1  1  \n",
       "8691               0              1  0  \n",
       "1114               0              1  0  "
      ]
     },
     "execution_count": 52,
     "metadata": {},
     "output_type": "execute_result"
    }
   ],
   "source": [
    "df_v03.sample(3)"
   ]
  },
  {
   "cell_type": "markdown",
   "metadata": {},
   "source": [
    "<span style=\"color:#1A9DE6\">_let's answer first fundamental question: how many drivers accepted the 'Restaurant(20-50)' coupon to begin with?_</span>\n",
    "\n",
    "<span style=\"color:#0049DA\">_our first observation is that 56% of drivers declined the 'Restaurant(20-50)' coupon with only remaining 44% accepted it_</span>"
   ]
  },
  {
   "cell_type": "code",
   "execution_count": 53,
   "metadata": {},
   "outputs": [
    {
     "name": "stdout",
     "output_type": "stream",
     "text": [
      "Y\n",
      "0    834\n",
      "1    658\n",
      "Name: count, dtype: int64\n",
      "Y\n",
      "0    0.558981\n",
      "1    0.441019\n",
      "Name: count, dtype: float64\n"
     ]
    }
   ],
   "source": [
    "# this code will let us know how many 'yes' and 'no' we have overall\n",
    "value_counts = df_v03['Y'].value_counts()\n",
    "print(value_counts)\n",
    "\n",
    "# now we will find the actual proportions simply deviding each value count by the total number of Y/N answers \n",
    "proportions = value_counts / len(df_v03)\n",
    "print(proportions)"
   ]
  },
  {
   "cell_type": "code",
   "execution_count": 61,
   "metadata": {},
   "outputs": [
    {
     "data": {
      "text/plain": [
       "occupation\n",
       "Unemployed                                   233\n",
       "Student                                      176\n",
       "Computer & Mathematical                      169\n",
       "Sales & Related                              120\n",
       "Education&Training&Library                   106\n",
       "Management                                    88\n",
       "Business & Financial                          78\n",
       "Office & Administrative Support               78\n",
       "Arts Design Entertainment Sports & Media      69\n",
       "Retired                                       55\n",
       "Food Preparation & Serving Related            35\n",
       "Healthcare Practitioners & Technical          33\n",
       "Healthcare Support                            32\n",
       "Legal                                         26\n",
       "Community & Social Services                   26\n",
       "Transportation & Material Moving              23\n",
       "Personal Care & Service                       22\n",
       "Construction & Extraction                     21\n",
       "Protective Service                            21\n",
       "Installation Maintenance & Repair             20\n",
       "Life Physical Social Science                  19\n",
       "Architecture & Engineering                    16\n",
       "Production Occupations                        13\n",
       "Building & Grounds Cleaning & Maintenance      7\n",
       "Farming Fishing & Forestry                     6\n",
       "Name: count, dtype: int64"
      ]
     },
     "execution_count": 61,
     "metadata": {},
     "output_type": "execute_result"
    }
   ],
   "source": [
    "df_v03.occupation.value_counts()"
   ]
  },
  {
   "cell_type": "code",
   "execution_count": 71,
   "metadata": {
    "scrolled": true
   },
   "outputs": [
    {
     "data": {
      "application/vnd.plotly.v1+json": {
       "config": {
        "plotlyServerURL": "https://plot.ly"
       },
       "data": [
        {
         "hovertemplate": "Y=%{marker.size}<br>age=%{y}<extra></extra>",
         "legendgroup": "",
         "marker": {
          "color": "#636efa",
          "size": [
           26,
           131,
           144,
           98,
           78,
           61,
           41,
           79
          ],
          "sizemode": "area",
          "sizeref": 0.36,
          "symbol": "circle"
         },
         "mode": "markers",
         "name": "",
         "orientation": "h",
         "showlegend": false,
         "type": "scatter",
         "x": [
          26,
          131,
          144,
          98,
          78,
          61,
          41,
          79
         ],
         "xaxis": "x",
         "y": [
          20,
          21,
          26,
          31,
          36,
          41,
          46,
          50
         ],
         "yaxis": "y"
        }
       ],
       "layout": {
        "legend": {
         "itemsizing": "constant",
         "tracegroupgap": 0
        },
        "margin": {
         "t": 60
        },
        "template": {
         "data": {
          "bar": [
           {
            "error_x": {
             "color": "#2a3f5f"
            },
            "error_y": {
             "color": "#2a3f5f"
            },
            "marker": {
             "line": {
              "color": "#E5ECF6",
              "width": 0.5
             },
             "pattern": {
              "fillmode": "overlay",
              "size": 10,
              "solidity": 0.2
             }
            },
            "type": "bar"
           }
          ],
          "barpolar": [
           {
            "marker": {
             "line": {
              "color": "#E5ECF6",
              "width": 0.5
             },
             "pattern": {
              "fillmode": "overlay",
              "size": 10,
              "solidity": 0.2
             }
            },
            "type": "barpolar"
           }
          ],
          "carpet": [
           {
            "aaxis": {
             "endlinecolor": "#2a3f5f",
             "gridcolor": "white",
             "linecolor": "white",
             "minorgridcolor": "white",
             "startlinecolor": "#2a3f5f"
            },
            "baxis": {
             "endlinecolor": "#2a3f5f",
             "gridcolor": "white",
             "linecolor": "white",
             "minorgridcolor": "white",
             "startlinecolor": "#2a3f5f"
            },
            "type": "carpet"
           }
          ],
          "choropleth": [
           {
            "colorbar": {
             "outlinewidth": 0,
             "ticks": ""
            },
            "type": "choropleth"
           }
          ],
          "contour": [
           {
            "colorbar": {
             "outlinewidth": 0,
             "ticks": ""
            },
            "colorscale": [
             [
              0,
              "#0d0887"
             ],
             [
              0.1111111111111111,
              "#46039f"
             ],
             [
              0.2222222222222222,
              "#7201a8"
             ],
             [
              0.3333333333333333,
              "#9c179e"
             ],
             [
              0.4444444444444444,
              "#bd3786"
             ],
             [
              0.5555555555555556,
              "#d8576b"
             ],
             [
              0.6666666666666666,
              "#ed7953"
             ],
             [
              0.7777777777777778,
              "#fb9f3a"
             ],
             [
              0.8888888888888888,
              "#fdca26"
             ],
             [
              1,
              "#f0f921"
             ]
            ],
            "type": "contour"
           }
          ],
          "contourcarpet": [
           {
            "colorbar": {
             "outlinewidth": 0,
             "ticks": ""
            },
            "type": "contourcarpet"
           }
          ],
          "heatmap": [
           {
            "colorbar": {
             "outlinewidth": 0,
             "ticks": ""
            },
            "colorscale": [
             [
              0,
              "#0d0887"
             ],
             [
              0.1111111111111111,
              "#46039f"
             ],
             [
              0.2222222222222222,
              "#7201a8"
             ],
             [
              0.3333333333333333,
              "#9c179e"
             ],
             [
              0.4444444444444444,
              "#bd3786"
             ],
             [
              0.5555555555555556,
              "#d8576b"
             ],
             [
              0.6666666666666666,
              "#ed7953"
             ],
             [
              0.7777777777777778,
              "#fb9f3a"
             ],
             [
              0.8888888888888888,
              "#fdca26"
             ],
             [
              1,
              "#f0f921"
             ]
            ],
            "type": "heatmap"
           }
          ],
          "heatmapgl": [
           {
            "colorbar": {
             "outlinewidth": 0,
             "ticks": ""
            },
            "colorscale": [
             [
              0,
              "#0d0887"
             ],
             [
              0.1111111111111111,
              "#46039f"
             ],
             [
              0.2222222222222222,
              "#7201a8"
             ],
             [
              0.3333333333333333,
              "#9c179e"
             ],
             [
              0.4444444444444444,
              "#bd3786"
             ],
             [
              0.5555555555555556,
              "#d8576b"
             ],
             [
              0.6666666666666666,
              "#ed7953"
             ],
             [
              0.7777777777777778,
              "#fb9f3a"
             ],
             [
              0.8888888888888888,
              "#fdca26"
             ],
             [
              1,
              "#f0f921"
             ]
            ],
            "type": "heatmapgl"
           }
          ],
          "histogram": [
           {
            "marker": {
             "pattern": {
              "fillmode": "overlay",
              "size": 10,
              "solidity": 0.2
             }
            },
            "type": "histogram"
           }
          ],
          "histogram2d": [
           {
            "colorbar": {
             "outlinewidth": 0,
             "ticks": ""
            },
            "colorscale": [
             [
              0,
              "#0d0887"
             ],
             [
              0.1111111111111111,
              "#46039f"
             ],
             [
              0.2222222222222222,
              "#7201a8"
             ],
             [
              0.3333333333333333,
              "#9c179e"
             ],
             [
              0.4444444444444444,
              "#bd3786"
             ],
             [
              0.5555555555555556,
              "#d8576b"
             ],
             [
              0.6666666666666666,
              "#ed7953"
             ],
             [
              0.7777777777777778,
              "#fb9f3a"
             ],
             [
              0.8888888888888888,
              "#fdca26"
             ],
             [
              1,
              "#f0f921"
             ]
            ],
            "type": "histogram2d"
           }
          ],
          "histogram2dcontour": [
           {
            "colorbar": {
             "outlinewidth": 0,
             "ticks": ""
            },
            "colorscale": [
             [
              0,
              "#0d0887"
             ],
             [
              0.1111111111111111,
              "#46039f"
             ],
             [
              0.2222222222222222,
              "#7201a8"
             ],
             [
              0.3333333333333333,
              "#9c179e"
             ],
             [
              0.4444444444444444,
              "#bd3786"
             ],
             [
              0.5555555555555556,
              "#d8576b"
             ],
             [
              0.6666666666666666,
              "#ed7953"
             ],
             [
              0.7777777777777778,
              "#fb9f3a"
             ],
             [
              0.8888888888888888,
              "#fdca26"
             ],
             [
              1,
              "#f0f921"
             ]
            ],
            "type": "histogram2dcontour"
           }
          ],
          "mesh3d": [
           {
            "colorbar": {
             "outlinewidth": 0,
             "ticks": ""
            },
            "type": "mesh3d"
           }
          ],
          "parcoords": [
           {
            "line": {
             "colorbar": {
              "outlinewidth": 0,
              "ticks": ""
             }
            },
            "type": "parcoords"
           }
          ],
          "pie": [
           {
            "automargin": true,
            "type": "pie"
           }
          ],
          "scatter": [
           {
            "fillpattern": {
             "fillmode": "overlay",
             "size": 10,
             "solidity": 0.2
            },
            "type": "scatter"
           }
          ],
          "scatter3d": [
           {
            "line": {
             "colorbar": {
              "outlinewidth": 0,
              "ticks": ""
             }
            },
            "marker": {
             "colorbar": {
              "outlinewidth": 0,
              "ticks": ""
             }
            },
            "type": "scatter3d"
           }
          ],
          "scattercarpet": [
           {
            "marker": {
             "colorbar": {
              "outlinewidth": 0,
              "ticks": ""
             }
            },
            "type": "scattercarpet"
           }
          ],
          "scattergeo": [
           {
            "marker": {
             "colorbar": {
              "outlinewidth": 0,
              "ticks": ""
             }
            },
            "type": "scattergeo"
           }
          ],
          "scattergl": [
           {
            "marker": {
             "colorbar": {
              "outlinewidth": 0,
              "ticks": ""
             }
            },
            "type": "scattergl"
           }
          ],
          "scattermapbox": [
           {
            "marker": {
             "colorbar": {
              "outlinewidth": 0,
              "ticks": ""
             }
            },
            "type": "scattermapbox"
           }
          ],
          "scatterpolar": [
           {
            "marker": {
             "colorbar": {
              "outlinewidth": 0,
              "ticks": ""
             }
            },
            "type": "scatterpolar"
           }
          ],
          "scatterpolargl": [
           {
            "marker": {
             "colorbar": {
              "outlinewidth": 0,
              "ticks": ""
             }
            },
            "type": "scatterpolargl"
           }
          ],
          "scatterternary": [
           {
            "marker": {
             "colorbar": {
              "outlinewidth": 0,
              "ticks": ""
             }
            },
            "type": "scatterternary"
           }
          ],
          "surface": [
           {
            "colorbar": {
             "outlinewidth": 0,
             "ticks": ""
            },
            "colorscale": [
             [
              0,
              "#0d0887"
             ],
             [
              0.1111111111111111,
              "#46039f"
             ],
             [
              0.2222222222222222,
              "#7201a8"
             ],
             [
              0.3333333333333333,
              "#9c179e"
             ],
             [
              0.4444444444444444,
              "#bd3786"
             ],
             [
              0.5555555555555556,
              "#d8576b"
             ],
             [
              0.6666666666666666,
              "#ed7953"
             ],
             [
              0.7777777777777778,
              "#fb9f3a"
             ],
             [
              0.8888888888888888,
              "#fdca26"
             ],
             [
              1,
              "#f0f921"
             ]
            ],
            "type": "surface"
           }
          ],
          "table": [
           {
            "cells": {
             "fill": {
              "color": "#EBF0F8"
             },
             "line": {
              "color": "white"
             }
            },
            "header": {
             "fill": {
              "color": "#C8D4E3"
             },
             "line": {
              "color": "white"
             }
            },
            "type": "table"
           }
          ]
         },
         "layout": {
          "annotationdefaults": {
           "arrowcolor": "#2a3f5f",
           "arrowhead": 0,
           "arrowwidth": 1
          },
          "autotypenumbers": "strict",
          "coloraxis": {
           "colorbar": {
            "outlinewidth": 0,
            "ticks": ""
           }
          },
          "colorscale": {
           "diverging": [
            [
             0,
             "#8e0152"
            ],
            [
             0.1,
             "#c51b7d"
            ],
            [
             0.2,
             "#de77ae"
            ],
            [
             0.3,
             "#f1b6da"
            ],
            [
             0.4,
             "#fde0ef"
            ],
            [
             0.5,
             "#f7f7f7"
            ],
            [
             0.6,
             "#e6f5d0"
            ],
            [
             0.7,
             "#b8e186"
            ],
            [
             0.8,
             "#7fbc41"
            ],
            [
             0.9,
             "#4d9221"
            ],
            [
             1,
             "#276419"
            ]
           ],
           "sequential": [
            [
             0,
             "#0d0887"
            ],
            [
             0.1111111111111111,
             "#46039f"
            ],
            [
             0.2222222222222222,
             "#7201a8"
            ],
            [
             0.3333333333333333,
             "#9c179e"
            ],
            [
             0.4444444444444444,
             "#bd3786"
            ],
            [
             0.5555555555555556,
             "#d8576b"
            ],
            [
             0.6666666666666666,
             "#ed7953"
            ],
            [
             0.7777777777777778,
             "#fb9f3a"
            ],
            [
             0.8888888888888888,
             "#fdca26"
            ],
            [
             1,
             "#f0f921"
            ]
           ],
           "sequentialminus": [
            [
             0,
             "#0d0887"
            ],
            [
             0.1111111111111111,
             "#46039f"
            ],
            [
             0.2222222222222222,
             "#7201a8"
            ],
            [
             0.3333333333333333,
             "#9c179e"
            ],
            [
             0.4444444444444444,
             "#bd3786"
            ],
            [
             0.5555555555555556,
             "#d8576b"
            ],
            [
             0.6666666666666666,
             "#ed7953"
            ],
            [
             0.7777777777777778,
             "#fb9f3a"
            ],
            [
             0.8888888888888888,
             "#fdca26"
            ],
            [
             1,
             "#f0f921"
            ]
           ]
          },
          "colorway": [
           "#636efa",
           "#EF553B",
           "#00cc96",
           "#ab63fa",
           "#FFA15A",
           "#19d3f3",
           "#FF6692",
           "#B6E880",
           "#FF97FF",
           "#FECB52"
          ],
          "font": {
           "color": "#2a3f5f"
          },
          "geo": {
           "bgcolor": "white",
           "lakecolor": "white",
           "landcolor": "#E5ECF6",
           "showlakes": true,
           "showland": true,
           "subunitcolor": "white"
          },
          "hoverlabel": {
           "align": "left"
          },
          "hovermode": "closest",
          "mapbox": {
           "style": "light"
          },
          "paper_bgcolor": "white",
          "plot_bgcolor": "#E5ECF6",
          "polar": {
           "angularaxis": {
            "gridcolor": "white",
            "linecolor": "white",
            "ticks": ""
           },
           "bgcolor": "#E5ECF6",
           "radialaxis": {
            "gridcolor": "white",
            "linecolor": "white",
            "ticks": ""
           }
          },
          "scene": {
           "xaxis": {
            "backgroundcolor": "#E5ECF6",
            "gridcolor": "white",
            "gridwidth": 2,
            "linecolor": "white",
            "showbackground": true,
            "ticks": "",
            "zerolinecolor": "white"
           },
           "yaxis": {
            "backgroundcolor": "#E5ECF6",
            "gridcolor": "white",
            "gridwidth": 2,
            "linecolor": "white",
            "showbackground": true,
            "ticks": "",
            "zerolinecolor": "white"
           },
           "zaxis": {
            "backgroundcolor": "#E5ECF6",
            "gridcolor": "white",
            "gridwidth": 2,
            "linecolor": "white",
            "showbackground": true,
            "ticks": "",
            "zerolinecolor": "white"
           }
          },
          "shapedefaults": {
           "line": {
            "color": "#2a3f5f"
           }
          },
          "ternary": {
           "aaxis": {
            "gridcolor": "white",
            "linecolor": "white",
            "ticks": ""
           },
           "baxis": {
            "gridcolor": "white",
            "linecolor": "white",
            "ticks": ""
           },
           "bgcolor": "#E5ECF6",
           "caxis": {
            "gridcolor": "white",
            "linecolor": "white",
            "ticks": ""
           }
          },
          "title": {
           "x": 0.05
          },
          "xaxis": {
           "automargin": true,
           "gridcolor": "white",
           "linecolor": "white",
           "ticks": "",
           "title": {
            "standoff": 15
           },
           "zerolinecolor": "white",
           "zerolinewidth": 2
          },
          "yaxis": {
           "automargin": true,
           "gridcolor": "white",
           "linecolor": "white",
           "ticks": "",
           "title": {
            "standoff": 15
           },
           "zerolinecolor": "white",
           "zerolinewidth": 2
          }
         }
        },
        "title": {
         "text": "Figure 3: Acceptance of coupons by age group"
        },
        "xaxis": {
         "anchor": "y",
         "domain": [
          0,
          1
         ],
         "title": {
          "text": "Number of accepted 'Restaurant(20-50)' category coupons"
         }
        },
        "yaxis": {
         "anchor": "x",
         "domain": [
          0,
          1
         ],
         "title": {
          "text": "Driver's age"
         }
        }
       }
      },
      "text/html": [
       "<div>                            <div id=\"4766b037-bb53-4c81-a783-1a283f4b1c69\" class=\"plotly-graph-div\" style=\"height:525px; width:100%;\"></div>            <script type=\"text/javascript\">                require([\"plotly\"], function(Plotly) {                    window.PLOTLYENV=window.PLOTLYENV || {};                                    if (document.getElementById(\"4766b037-bb53-4c81-a783-1a283f4b1c69\")) {                    Plotly.newPlot(                        \"4766b037-bb53-4c81-a783-1a283f4b1c69\",                        [{\"hovertemplate\":\"Y=%{marker.size}<br>age=%{y}<extra></extra>\",\"legendgroup\":\"\",\"marker\":{\"color\":\"#636efa\",\"size\":[26,131,144,98,78,61,41,79],\"sizemode\":\"area\",\"sizeref\":0.36,\"symbol\":\"circle\"},\"mode\":\"markers\",\"name\":\"\",\"orientation\":\"h\",\"showlegend\":false,\"x\":[26,131,144,98,78,61,41,79],\"xaxis\":\"x\",\"y\":[20,21,26,31,36,41,46,50],\"yaxis\":\"y\",\"type\":\"scatter\"}],                        {\"template\":{\"data\":{\"histogram2dcontour\":[{\"type\":\"histogram2dcontour\",\"colorbar\":{\"outlinewidth\":0,\"ticks\":\"\"},\"colorscale\":[[0.0,\"#0d0887\"],[0.1111111111111111,\"#46039f\"],[0.2222222222222222,\"#7201a8\"],[0.3333333333333333,\"#9c179e\"],[0.4444444444444444,\"#bd3786\"],[0.5555555555555556,\"#d8576b\"],[0.6666666666666666,\"#ed7953\"],[0.7777777777777778,\"#fb9f3a\"],[0.8888888888888888,\"#fdca26\"],[1.0,\"#f0f921\"]]}],\"choropleth\":[{\"type\":\"choropleth\",\"colorbar\":{\"outlinewidth\":0,\"ticks\":\"\"}}],\"histogram2d\":[{\"type\":\"histogram2d\",\"colorbar\":{\"outlinewidth\":0,\"ticks\":\"\"},\"colorscale\":[[0.0,\"#0d0887\"],[0.1111111111111111,\"#46039f\"],[0.2222222222222222,\"#7201a8\"],[0.3333333333333333,\"#9c179e\"],[0.4444444444444444,\"#bd3786\"],[0.5555555555555556,\"#d8576b\"],[0.6666666666666666,\"#ed7953\"],[0.7777777777777778,\"#fb9f3a\"],[0.8888888888888888,\"#fdca26\"],[1.0,\"#f0f921\"]]}],\"heatmap\":[{\"type\":\"heatmap\",\"colorbar\":{\"outlinewidth\":0,\"ticks\":\"\"},\"colorscale\":[[0.0,\"#0d0887\"],[0.1111111111111111,\"#46039f\"],[0.2222222222222222,\"#7201a8\"],[0.3333333333333333,\"#9c179e\"],[0.4444444444444444,\"#bd3786\"],[0.5555555555555556,\"#d8576b\"],[0.6666666666666666,\"#ed7953\"],[0.7777777777777778,\"#fb9f3a\"],[0.8888888888888888,\"#fdca26\"],[1.0,\"#f0f921\"]]}],\"heatmapgl\":[{\"type\":\"heatmapgl\",\"colorbar\":{\"outlinewidth\":0,\"ticks\":\"\"},\"colorscale\":[[0.0,\"#0d0887\"],[0.1111111111111111,\"#46039f\"],[0.2222222222222222,\"#7201a8\"],[0.3333333333333333,\"#9c179e\"],[0.4444444444444444,\"#bd3786\"],[0.5555555555555556,\"#d8576b\"],[0.6666666666666666,\"#ed7953\"],[0.7777777777777778,\"#fb9f3a\"],[0.8888888888888888,\"#fdca26\"],[1.0,\"#f0f921\"]]}],\"contourcarpet\":[{\"type\":\"contourcarpet\",\"colorbar\":{\"outlinewidth\":0,\"ticks\":\"\"}}],\"contour\":[{\"type\":\"contour\",\"colorbar\":{\"outlinewidth\":0,\"ticks\":\"\"},\"colorscale\":[[0.0,\"#0d0887\"],[0.1111111111111111,\"#46039f\"],[0.2222222222222222,\"#7201a8\"],[0.3333333333333333,\"#9c179e\"],[0.4444444444444444,\"#bd3786\"],[0.5555555555555556,\"#d8576b\"],[0.6666666666666666,\"#ed7953\"],[0.7777777777777778,\"#fb9f3a\"],[0.8888888888888888,\"#fdca26\"],[1.0,\"#f0f921\"]]}],\"surface\":[{\"type\":\"surface\",\"colorbar\":{\"outlinewidth\":0,\"ticks\":\"\"},\"colorscale\":[[0.0,\"#0d0887\"],[0.1111111111111111,\"#46039f\"],[0.2222222222222222,\"#7201a8\"],[0.3333333333333333,\"#9c179e\"],[0.4444444444444444,\"#bd3786\"],[0.5555555555555556,\"#d8576b\"],[0.6666666666666666,\"#ed7953\"],[0.7777777777777778,\"#fb9f3a\"],[0.8888888888888888,\"#fdca26\"],[1.0,\"#f0f921\"]]}],\"mesh3d\":[{\"type\":\"mesh3d\",\"colorbar\":{\"outlinewidth\":0,\"ticks\":\"\"}}],\"scatter\":[{\"fillpattern\":{\"fillmode\":\"overlay\",\"size\":10,\"solidity\":0.2},\"type\":\"scatter\"}],\"parcoords\":[{\"type\":\"parcoords\",\"line\":{\"colorbar\":{\"outlinewidth\":0,\"ticks\":\"\"}}}],\"scatterpolargl\":[{\"type\":\"scatterpolargl\",\"marker\":{\"colorbar\":{\"outlinewidth\":0,\"ticks\":\"\"}}}],\"bar\":[{\"error_x\":{\"color\":\"#2a3f5f\"},\"error_y\":{\"color\":\"#2a3f5f\"},\"marker\":{\"line\":{\"color\":\"#E5ECF6\",\"width\":0.5},\"pattern\":{\"fillmode\":\"overlay\",\"size\":10,\"solidity\":0.2}},\"type\":\"bar\"}],\"scattergeo\":[{\"type\":\"scattergeo\",\"marker\":{\"colorbar\":{\"outlinewidth\":0,\"ticks\":\"\"}}}],\"scatterpolar\":[{\"type\":\"scatterpolar\",\"marker\":{\"colorbar\":{\"outlinewidth\":0,\"ticks\":\"\"}}}],\"histogram\":[{\"marker\":{\"pattern\":{\"fillmode\":\"overlay\",\"size\":10,\"solidity\":0.2}},\"type\":\"histogram\"}],\"scattergl\":[{\"type\":\"scattergl\",\"marker\":{\"colorbar\":{\"outlinewidth\":0,\"ticks\":\"\"}}}],\"scatter3d\":[{\"type\":\"scatter3d\",\"line\":{\"colorbar\":{\"outlinewidth\":0,\"ticks\":\"\"}},\"marker\":{\"colorbar\":{\"outlinewidth\":0,\"ticks\":\"\"}}}],\"scattermapbox\":[{\"type\":\"scattermapbox\",\"marker\":{\"colorbar\":{\"outlinewidth\":0,\"ticks\":\"\"}}}],\"scatterternary\":[{\"type\":\"scatterternary\",\"marker\":{\"colorbar\":{\"outlinewidth\":0,\"ticks\":\"\"}}}],\"scattercarpet\":[{\"type\":\"scattercarpet\",\"marker\":{\"colorbar\":{\"outlinewidth\":0,\"ticks\":\"\"}}}],\"carpet\":[{\"aaxis\":{\"endlinecolor\":\"#2a3f5f\",\"gridcolor\":\"white\",\"linecolor\":\"white\",\"minorgridcolor\":\"white\",\"startlinecolor\":\"#2a3f5f\"},\"baxis\":{\"endlinecolor\":\"#2a3f5f\",\"gridcolor\":\"white\",\"linecolor\":\"white\",\"minorgridcolor\":\"white\",\"startlinecolor\":\"#2a3f5f\"},\"type\":\"carpet\"}],\"table\":[{\"cells\":{\"fill\":{\"color\":\"#EBF0F8\"},\"line\":{\"color\":\"white\"}},\"header\":{\"fill\":{\"color\":\"#C8D4E3\"},\"line\":{\"color\":\"white\"}},\"type\":\"table\"}],\"barpolar\":[{\"marker\":{\"line\":{\"color\":\"#E5ECF6\",\"width\":0.5},\"pattern\":{\"fillmode\":\"overlay\",\"size\":10,\"solidity\":0.2}},\"type\":\"barpolar\"}],\"pie\":[{\"automargin\":true,\"type\":\"pie\"}]},\"layout\":{\"autotypenumbers\":\"strict\",\"colorway\":[\"#636efa\",\"#EF553B\",\"#00cc96\",\"#ab63fa\",\"#FFA15A\",\"#19d3f3\",\"#FF6692\",\"#B6E880\",\"#FF97FF\",\"#FECB52\"],\"font\":{\"color\":\"#2a3f5f\"},\"hovermode\":\"closest\",\"hoverlabel\":{\"align\":\"left\"},\"paper_bgcolor\":\"white\",\"plot_bgcolor\":\"#E5ECF6\",\"polar\":{\"bgcolor\":\"#E5ECF6\",\"angularaxis\":{\"gridcolor\":\"white\",\"linecolor\":\"white\",\"ticks\":\"\"},\"radialaxis\":{\"gridcolor\":\"white\",\"linecolor\":\"white\",\"ticks\":\"\"}},\"ternary\":{\"bgcolor\":\"#E5ECF6\",\"aaxis\":{\"gridcolor\":\"white\",\"linecolor\":\"white\",\"ticks\":\"\"},\"baxis\":{\"gridcolor\":\"white\",\"linecolor\":\"white\",\"ticks\":\"\"},\"caxis\":{\"gridcolor\":\"white\",\"linecolor\":\"white\",\"ticks\":\"\"}},\"coloraxis\":{\"colorbar\":{\"outlinewidth\":0,\"ticks\":\"\"}},\"colorscale\":{\"sequential\":[[0.0,\"#0d0887\"],[0.1111111111111111,\"#46039f\"],[0.2222222222222222,\"#7201a8\"],[0.3333333333333333,\"#9c179e\"],[0.4444444444444444,\"#bd3786\"],[0.5555555555555556,\"#d8576b\"],[0.6666666666666666,\"#ed7953\"],[0.7777777777777778,\"#fb9f3a\"],[0.8888888888888888,\"#fdca26\"],[1.0,\"#f0f921\"]],\"sequentialminus\":[[0.0,\"#0d0887\"],[0.1111111111111111,\"#46039f\"],[0.2222222222222222,\"#7201a8\"],[0.3333333333333333,\"#9c179e\"],[0.4444444444444444,\"#bd3786\"],[0.5555555555555556,\"#d8576b\"],[0.6666666666666666,\"#ed7953\"],[0.7777777777777778,\"#fb9f3a\"],[0.8888888888888888,\"#fdca26\"],[1.0,\"#f0f921\"]],\"diverging\":[[0,\"#8e0152\"],[0.1,\"#c51b7d\"],[0.2,\"#de77ae\"],[0.3,\"#f1b6da\"],[0.4,\"#fde0ef\"],[0.5,\"#f7f7f7\"],[0.6,\"#e6f5d0\"],[0.7,\"#b8e186\"],[0.8,\"#7fbc41\"],[0.9,\"#4d9221\"],[1,\"#276419\"]]},\"xaxis\":{\"gridcolor\":\"white\",\"linecolor\":\"white\",\"ticks\":\"\",\"title\":{\"standoff\":15},\"zerolinecolor\":\"white\",\"automargin\":true,\"zerolinewidth\":2},\"yaxis\":{\"gridcolor\":\"white\",\"linecolor\":\"white\",\"ticks\":\"\",\"title\":{\"standoff\":15},\"zerolinecolor\":\"white\",\"automargin\":true,\"zerolinewidth\":2},\"scene\":{\"xaxis\":{\"backgroundcolor\":\"#E5ECF6\",\"gridcolor\":\"white\",\"linecolor\":\"white\",\"showbackground\":true,\"ticks\":\"\",\"zerolinecolor\":\"white\",\"gridwidth\":2},\"yaxis\":{\"backgroundcolor\":\"#E5ECF6\",\"gridcolor\":\"white\",\"linecolor\":\"white\",\"showbackground\":true,\"ticks\":\"\",\"zerolinecolor\":\"white\",\"gridwidth\":2},\"zaxis\":{\"backgroundcolor\":\"#E5ECF6\",\"gridcolor\":\"white\",\"linecolor\":\"white\",\"showbackground\":true,\"ticks\":\"\",\"zerolinecolor\":\"white\",\"gridwidth\":2}},\"shapedefaults\":{\"line\":{\"color\":\"#2a3f5f\"}},\"annotationdefaults\":{\"arrowcolor\":\"#2a3f5f\",\"arrowhead\":0,\"arrowwidth\":1},\"geo\":{\"bgcolor\":\"white\",\"landcolor\":\"#E5ECF6\",\"subunitcolor\":\"white\",\"showland\":true,\"showlakes\":true,\"lakecolor\":\"white\"},\"title\":{\"x\":0.05},\"mapbox\":{\"style\":\"light\"}}},\"xaxis\":{\"anchor\":\"y\",\"domain\":[0.0,1.0],\"title\":{\"text\":\"Number of accepted 'Restaurant(20-50)' category coupons\"}},\"yaxis\":{\"anchor\":\"x\",\"domain\":[0.0,1.0],\"title\":{\"text\":\"Driver's age\"}},\"legend\":{\"tracegroupgap\":0,\"itemsizing\":\"constant\"},\"margin\":{\"t\":60},\"title\":{\"text\":\"Figure 3: Acceptance of coupons by age group\"}},                        {\"responsive\": true}                    ).then(function(){\n",
       "                            \n",
       "var gd = document.getElementById('4766b037-bb53-4c81-a783-1a283f4b1c69');\n",
       "var x = new MutationObserver(function (mutations, observer) {{\n",
       "        var display = window.getComputedStyle(gd).display;\n",
       "        if (!display || display === 'none') {{\n",
       "            console.log([gd, 'removed!']);\n",
       "            Plotly.purge(gd);\n",
       "            observer.disconnect();\n",
       "        }}\n",
       "}});\n",
       "\n",
       "// Listen for the removal of the full notebook cells\n",
       "var notebookContainer = gd.closest('#notebook-container');\n",
       "if (notebookContainer) {{\n",
       "    x.observe(notebookContainer, {childList: true});\n",
       "}}\n",
       "\n",
       "// Listen for the clearing of the current output cell\n",
       "var outputEl = gd.closest('.output');\n",
       "if (outputEl) {{\n",
       "    x.observe(outputEl, {childList: true});\n",
       "}}\n",
       "\n",
       "                        })                };                });            </script>        </div>"
      ]
     },
     "metadata": {},
     "output_type": "display_data"
    }
   ],
   "source": [
    "# now let's see if visualization of acceptance of coupons for each age group will tell us something ... using plotly\n",
    "fig = px.scatter(df_v03.groupby('age').agg(sum)[['Y']], x = 'Y', size = 'Y')\n",
    "fig.update_xaxes(title_text = 'Number of accepted \\'Restaurant(20-50)\\' category coupons')\n",
    "fig.update_yaxes(title_text = 'Driver\\'s age')\n",
    "fig.update_layout(title=\"Figure 3: Acceptance of coupons by age group\")\n",
    "fig.show()"
   ]
  },
  {
   "cell_type": "markdown",
   "metadata": {},
   "source": [
    "<span style=\"color:#0049DA\">_our next observations are: 1) drivers in their mid-20s tend to accept the 'Restaurant(20-50)' coupon the most and 2) we see inverted correlation between age and acceptance of the coupons telling us that as the age increases the acceptance of the coupons declines_</span>"
   ]
  },
  {
   "cell_type": "markdown",
   "metadata": {},
   "source": [
    "<span style=\"color:#1A9DE6\">_let's answer one more question: what is the acceptance rate of 'Restaurant(20-50)' coupons between female and male drivers?_</span>"
   ]
  },
  {
   "cell_type": "code",
   "execution_count": 76,
   "metadata": {},
   "outputs": [
    {
     "name": "stdout",
     "output_type": "stream",
     "text": [
      "number of female drivers accepting the coupon is 322\n",
      "number of female drivers declining the coupon is 432\n",
      "total number of female drivers 754\n",
      "proportion of female drivers accepting the coupon is 0.4271\n",
      "proportion of female drivers declining the coupon is 0.5729\n"
     ]
    }
   ],
   "source": [
    "# identifying the acceptance rate among female drivers\n",
    "\n",
    "female_yes = df_v03.loc[(df_v03['gender'] == 'Female') & (df_v03['Y'] == 1)].shape[0]\n",
    "print('number of female drivers accepting the coupon is ' + str(female_yes))\n",
    "\n",
    "female_no = df_v03.loc[(df_v03['gender'] == 'Female') & (df_v03['Y'] == 0)].shape[0]\n",
    "print('number of female drivers declining the coupon is ' + str(female_no))\n",
    "\n",
    "female_total = female_yes + female_no\n",
    "print('total number of female drivers ' + str(female_total))\n",
    "\n",
    "print('proportion of female drivers accepting the coupon is ' + str(\"{:.4f}\".format(female_yes/female_total)))\n",
    "print('proportion of female drivers declining the coupon is ' + str(\"{:.4f}\".format(female_no/female_total)))"
   ]
  },
  {
   "cell_type": "code",
   "execution_count": 77,
   "metadata": {},
   "outputs": [
    {
     "name": "stdout",
     "output_type": "stream",
     "text": [
      "number of male drivers accepting the coupon is 336\n",
      "number of Male drivers declining the coupon is 402\n",
      "total number of male drivers 738\n",
      "proportion of male drivers accepting the coupon is 0.4553\n",
      "proportion of male drivers declining the coupon is 0.5447\n"
     ]
    }
   ],
   "source": [
    "# now let's identifying the acceptance rate among male drivers\n",
    "\n",
    "male_yes = df_v03.loc[(df_v03['gender'] == 'Male') & (df_v03['Y'] == 1)].shape[0]\n",
    "print('number of male drivers accepting the coupon is ' + str(male_yes))\n",
    "\n",
    "male_no = df_v03.loc[(df_v03['gender'] == 'Male') & (df_v03['Y'] == 0)].shape[0]\n",
    "print('number of Male drivers declining the coupon is ' + str(male_no))\n",
    "\n",
    "male_total = male_yes + male_no\n",
    "print('total number of male drivers ' + str(male_total))\n",
    "\n",
    "print('proportion of male drivers accepting the coupon is ' + str(\"{:.4f}\".format(male_yes/male_total)))\n",
    "print('proportion of male drivers declining the coupon is ' + str(\"{:.4f}\".format(male_no/male_total)))"
   ]
  },
  {
   "cell_type": "markdown",
   "metadata": {},
   "source": [
    "<span style=\"color:#0049DA\">_and our final observation is that the coupon acceptance rate for female drivers of 43% is very close to coupon acceptance rate for male drivers of 46% which basically tells us that female and male drivers in their majority tend to equally decline 'Restaurant(20-50)' coupons_</span>"
   ]
  }
 ],
 "metadata": {
  "kernelspec": {
   "display_name": "Python 3 (ipykernel)",
   "language": "python",
   "name": "python3"
  },
  "language_info": {
   "codemirror_mode": {
    "name": "ipython",
    "version": 3
   },
   "file_extension": ".py",
   "mimetype": "text/x-python",
   "name": "python",
   "nbconvert_exporter": "python",
   "pygments_lexer": "ipython3",
   "version": "3.11.5"
  },
  "widgets": {
   "application/vnd.jupyter.widget-state+json": {
    "state": {},
    "version_major": 2,
    "version_minor": 0
   }
  }
 },
 "nbformat": 4,
 "nbformat_minor": 4
}
